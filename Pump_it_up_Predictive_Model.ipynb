{
 "cells": [
  {
   "cell_type": "code",
   "execution_count": 1,
   "id": "5e16e117-0871-4409-9067-2eaf284269d9",
   "metadata": {},
   "outputs": [],
   "source": [
    "# Librerias a utilizar\n",
    "\n",
    "import pandas as pd\n",
    "import numpy as np\n",
    "\n",
    "from datetime import datetime\n",
    "import requests\n",
    "import seaborn as sns\n",
    "sns.set()\n",
    "%matplotlib inline\n",
    "import matplotlib\n",
    "import matplotlib.pyplot as plt\n",
    "plt.rcParams['axes.labelsize'] = 10\n",
    "plt.rcParams['xtick.labelsize'] = 10\n",
    "plt.rcParams['ytick.labelsize'] = 10\n",
    "\n",
    "import re\n",
    "\n",
    "# IQR/Z score.\n",
    "from scipy.stats import stats\n",
    "\n",
    "# Seleción de variables.\n",
    "from sklearn.feature_selection import SelectKBest\n",
    "\n",
    "# Modelos Selección.\n",
    "from sklearn.model_selection import train_test_split\n",
    "from sklearn.model_selection import cross_val_score\n",
    "from sklearn.model_selection import GridSearchCV, StratifiedKFold\n",
    "\n",
    "# Modelos.\n",
    "from sklearn.linear_model import LogisticRegression\n",
    "from sklearn.tree import DecisionTreeClassifier\n",
    "from sklearn.ensemble import RandomForestClassifier\n",
    "from sklearn.svm import LinearSVC\n",
    "from xgboost import XGBClassifier\n",
    "from sklearn.naive_bayes import GaussianNB\n",
    "from sklearn.ensemble import AdaBoostClassifier\n",
    "from sklearn.linear_model import LassoCV\n",
    "from sklearn.linear_model import RidgeClassifierCV\n",
    "from sklearn.svm import SVC\n",
    "from sklearn.model_selection import RepeatedStratifiedKFold\n",
    "\n",
    "# Preprocesado.\n",
    "from sklearn.preprocessing import MinMaxScaler\n",
    "\n",
    "from imblearn.over_sampling import SMOTE\n",
    "import pickle\n",
    "# Métricas.\n",
    "from sklearn.metrics import classification_report\n",
    "from sklearn.metrics import accuracy_score, auc, confusion_matrix, f1_score, precision_score, recall_score, roc_curve"
   ]
  },
  {
   "cell_type": "markdown",
   "id": "be085800-f10d-44c7-8018-604642eccfcb",
   "metadata": {},
   "source": [
    "**I. Lectura del archivo**"
   ]
  },
  {
   "cell_type": "code",
   "execution_count": 2,
   "id": "eee0ad3c-4f9a-4e92-a8eb-ec5b8ed3547b",
   "metadata": {},
   "outputs": [
    {
     "name": "stdout",
     "output_type": "stream",
     "text": [
      "<class 'pandas.core.frame.DataFrame'>\n",
      "RangeIndex: 59400 entries, 0 to 59399\n",
      "Data columns (total 40 columns):\n",
      " #   Column                 Non-Null Count  Dtype         \n",
      "---  ------                 --------------  -----         \n",
      " 0   id                     59400 non-null  int64         \n",
      " 1   amount_tsh             59400 non-null  float64       \n",
      " 2   date_recorded          59400 non-null  datetime64[ns]\n",
      " 3   funder                 55763 non-null  object        \n",
      " 4   gps_height             59400 non-null  int64         \n",
      " 5   installer              55745 non-null  object        \n",
      " 6   longitude              59400 non-null  float64       \n",
      " 7   latitude               59400 non-null  float64       \n",
      " 8   wpt_name               59398 non-null  object        \n",
      " 9   num_private            59400 non-null  int64         \n",
      " 10  basin                  59400 non-null  object        \n",
      " 11  subvillage             59029 non-null  object        \n",
      " 12  region                 59400 non-null  object        \n",
      " 13  region_code            59400 non-null  int64         \n",
      " 14  district_code          59400 non-null  int64         \n",
      " 15  lga                    59400 non-null  object        \n",
      " 16  ward                   59400 non-null  object        \n",
      " 17  population             59400 non-null  int64         \n",
      " 18  public_meeting         56066 non-null  object        \n",
      " 19  recorded_by            59400 non-null  object        \n",
      " 20  scheme_management      55522 non-null  object        \n",
      " 21  scheme_name            30590 non-null  object        \n",
      " 22  permit                 56344 non-null  object        \n",
      " 23  construction_year      59400 non-null  int64         \n",
      " 24  extraction_type        59400 non-null  object        \n",
      " 25  extraction_type_group  59400 non-null  object        \n",
      " 26  extraction_type_class  59400 non-null  object        \n",
      " 27  management             59400 non-null  object        \n",
      " 28  management_group       59400 non-null  object        \n",
      " 29  payment                59400 non-null  object        \n",
      " 30  payment_type           59400 non-null  object        \n",
      " 31  water_quality          59400 non-null  object        \n",
      " 32  quality_group          59400 non-null  object        \n",
      " 33  quantity               59400 non-null  object        \n",
      " 34  quantity_group         59400 non-null  object        \n",
      " 35  source                 59400 non-null  object        \n",
      " 36  source_type            59400 non-null  object        \n",
      " 37  source_class           59400 non-null  object        \n",
      " 38  waterpoint_type        59400 non-null  object        \n",
      " 39  waterpoint_type_group  59400 non-null  object        \n",
      "dtypes: datetime64[ns](1), float64(3), int64(7), object(29)\n",
      "memory usage: 18.1+ MB\n"
     ]
    }
   ],
   "source": [
    "# Data de training\n",
    "data_training = pd.read_csv(\"C://Users//faman//Desktop//Master Big Data UCM//Curso 8. Machine Learning//evaluacion//training.csv\", parse_dates = [\"date_recorded\"])\n",
    "data_training.info()"
   ]
  },
  {
   "cell_type": "code",
   "execution_count": 3,
   "id": "b0b24dac-b6b7-4104-8bd4-038976c5e7f2",
   "metadata": {},
   "outputs": [
    {
     "name": "stdout",
     "output_type": "stream",
     "text": [
      "<class 'pandas.core.frame.DataFrame'>\n",
      "RangeIndex: 14850 entries, 0 to 14849\n",
      "Data columns (total 40 columns):\n",
      " #   Column                 Non-Null Count  Dtype  \n",
      "---  ------                 --------------  -----  \n",
      " 0   id                     14850 non-null  int64  \n",
      " 1   amount_tsh             14850 non-null  float64\n",
      " 2   date_recorded          14850 non-null  object \n",
      " 3   funder                 13980 non-null  object \n",
      " 4   gps_height             14850 non-null  int64  \n",
      " 5   installer              13973 non-null  object \n",
      " 6   longitude              14850 non-null  float64\n",
      " 7   latitude               14850 non-null  float64\n",
      " 8   wpt_name               14850 non-null  object \n",
      " 9   num_private            14850 non-null  int64  \n",
      " 10  basin                  14850 non-null  object \n",
      " 11  subvillage             14751 non-null  object \n",
      " 12  region                 14850 non-null  object \n",
      " 13  region_code            14850 non-null  int64  \n",
      " 14  district_code          14850 non-null  int64  \n",
      " 15  lga                    14850 non-null  object \n",
      " 16  ward                   14850 non-null  object \n",
      " 17  population             14850 non-null  int64  \n",
      " 18  public_meeting         14029 non-null  object \n",
      " 19  recorded_by            14850 non-null  object \n",
      " 20  scheme_management      13881 non-null  object \n",
      " 21  scheme_name            7608 non-null   object \n",
      " 22  permit                 14113 non-null  object \n",
      " 23  construction_year      14850 non-null  int64  \n",
      " 24  extraction_type        14850 non-null  object \n",
      " 25  extraction_type_group  14850 non-null  object \n",
      " 26  extraction_type_class  14850 non-null  object \n",
      " 27  management             14850 non-null  object \n",
      " 28  management_group       14850 non-null  object \n",
      " 29  payment                14850 non-null  object \n",
      " 30  payment_type           14850 non-null  object \n",
      " 31  water_quality          14850 non-null  object \n",
      " 32  quality_group          14850 non-null  object \n",
      " 33  quantity               14850 non-null  object \n",
      " 34  quantity_group         14850 non-null  object \n",
      " 35  source                 14850 non-null  object \n",
      " 36  source_type            14850 non-null  object \n",
      " 37  source_class           14850 non-null  object \n",
      " 38  waterpoint_type        14850 non-null  object \n",
      " 39  waterpoint_type_group  14850 non-null  object \n",
      "dtypes: float64(3), int64(7), object(30)\n",
      "memory usage: 4.5+ MB\n"
     ]
    }
   ],
   "source": [
    "# Data de test\n",
    "data_test = pd.read_csv(\"C://Users//faman//Desktop//Master Big Data UCM//Curso 8. Machine Learning//evaluacion//test.csv\")\n",
    "data_test.info()"
   ]
  },
  {
   "cell_type": "code",
   "execution_count": 4,
   "id": "aafc8b5f-af40-4373-8c4a-854ae6dea378",
   "metadata": {},
   "outputs": [
    {
     "data": {
      "text/html": [
       "<div>\n",
       "<style scoped>\n",
       "    .dataframe tbody tr th:only-of-type {\n",
       "        vertical-align: middle;\n",
       "    }\n",
       "\n",
       "    .dataframe tbody tr th {\n",
       "        vertical-align: top;\n",
       "    }\n",
       "\n",
       "    .dataframe thead th {\n",
       "        text-align: right;\n",
       "    }\n",
       "</style>\n",
       "<table border=\"1\" class=\"dataframe\">\n",
       "  <thead>\n",
       "    <tr style=\"text-align: right;\">\n",
       "      <th></th>\n",
       "      <th>id</th>\n",
       "      <th>amount_tsh</th>\n",
       "      <th>date_recorded</th>\n",
       "      <th>funder</th>\n",
       "      <th>gps_height</th>\n",
       "      <th>installer</th>\n",
       "      <th>longitude</th>\n",
       "      <th>latitude</th>\n",
       "      <th>wpt_name</th>\n",
       "      <th>num_private</th>\n",
       "      <th>...</th>\n",
       "      <th>payment_type</th>\n",
       "      <th>water_quality</th>\n",
       "      <th>quality_group</th>\n",
       "      <th>quantity</th>\n",
       "      <th>quantity_group</th>\n",
       "      <th>source</th>\n",
       "      <th>source_type</th>\n",
       "      <th>source_class</th>\n",
       "      <th>waterpoint_type</th>\n",
       "      <th>waterpoint_type_group</th>\n",
       "    </tr>\n",
       "  </thead>\n",
       "  <tbody>\n",
       "    <tr>\n",
       "      <th>0</th>\n",
       "      <td>50785</td>\n",
       "      <td>0.0</td>\n",
       "      <td>2013-02-04</td>\n",
       "      <td>Dmdd</td>\n",
       "      <td>1996</td>\n",
       "      <td>DMDD</td>\n",
       "      <td>35.290799</td>\n",
       "      <td>-4.059696</td>\n",
       "      <td>Dinamu Secondary School</td>\n",
       "      <td>0</td>\n",
       "      <td>...</td>\n",
       "      <td>never pay</td>\n",
       "      <td>soft</td>\n",
       "      <td>good</td>\n",
       "      <td>seasonal</td>\n",
       "      <td>seasonal</td>\n",
       "      <td>rainwater harvesting</td>\n",
       "      <td>rainwater harvesting</td>\n",
       "      <td>surface</td>\n",
       "      <td>other</td>\n",
       "      <td>other</td>\n",
       "    </tr>\n",
       "    <tr>\n",
       "      <th>1</th>\n",
       "      <td>51630</td>\n",
       "      <td>0.0</td>\n",
       "      <td>2013-02-04</td>\n",
       "      <td>Government Of Tanzania</td>\n",
       "      <td>1569</td>\n",
       "      <td>DWE</td>\n",
       "      <td>36.656709</td>\n",
       "      <td>-3.309214</td>\n",
       "      <td>Kimnyak</td>\n",
       "      <td>0</td>\n",
       "      <td>...</td>\n",
       "      <td>never pay</td>\n",
       "      <td>soft</td>\n",
       "      <td>good</td>\n",
       "      <td>insufficient</td>\n",
       "      <td>insufficient</td>\n",
       "      <td>spring</td>\n",
       "      <td>spring</td>\n",
       "      <td>groundwater</td>\n",
       "      <td>communal standpipe</td>\n",
       "      <td>communal standpipe</td>\n",
       "    </tr>\n",
       "    <tr>\n",
       "      <th>2</th>\n",
       "      <td>17168</td>\n",
       "      <td>0.0</td>\n",
       "      <td>2013-02-01</td>\n",
       "      <td>NaN</td>\n",
       "      <td>1567</td>\n",
       "      <td>NaN</td>\n",
       "      <td>34.767863</td>\n",
       "      <td>-5.004344</td>\n",
       "      <td>Puma Secondary</td>\n",
       "      <td>0</td>\n",
       "      <td>...</td>\n",
       "      <td>never pay</td>\n",
       "      <td>soft</td>\n",
       "      <td>good</td>\n",
       "      <td>insufficient</td>\n",
       "      <td>insufficient</td>\n",
       "      <td>rainwater harvesting</td>\n",
       "      <td>rainwater harvesting</td>\n",
       "      <td>surface</td>\n",
       "      <td>other</td>\n",
       "      <td>other</td>\n",
       "    </tr>\n",
       "    <tr>\n",
       "      <th>3</th>\n",
       "      <td>45559</td>\n",
       "      <td>0.0</td>\n",
       "      <td>2013-01-22</td>\n",
       "      <td>Finn Water</td>\n",
       "      <td>267</td>\n",
       "      <td>FINN WATER</td>\n",
       "      <td>38.058046</td>\n",
       "      <td>-9.418672</td>\n",
       "      <td>Kwa Mzee Pange</td>\n",
       "      <td>0</td>\n",
       "      <td>...</td>\n",
       "      <td>unknown</td>\n",
       "      <td>soft</td>\n",
       "      <td>good</td>\n",
       "      <td>dry</td>\n",
       "      <td>dry</td>\n",
       "      <td>shallow well</td>\n",
       "      <td>shallow well</td>\n",
       "      <td>groundwater</td>\n",
       "      <td>other</td>\n",
       "      <td>other</td>\n",
       "    </tr>\n",
       "    <tr>\n",
       "      <th>4</th>\n",
       "      <td>49871</td>\n",
       "      <td>500.0</td>\n",
       "      <td>2013-03-27</td>\n",
       "      <td>Bruder</td>\n",
       "      <td>1260</td>\n",
       "      <td>BRUDER</td>\n",
       "      <td>35.006123</td>\n",
       "      <td>-10.950412</td>\n",
       "      <td>Kwa Mzee Turuka</td>\n",
       "      <td>0</td>\n",
       "      <td>...</td>\n",
       "      <td>monthly</td>\n",
       "      <td>soft</td>\n",
       "      <td>good</td>\n",
       "      <td>enough</td>\n",
       "      <td>enough</td>\n",
       "      <td>spring</td>\n",
       "      <td>spring</td>\n",
       "      <td>groundwater</td>\n",
       "      <td>communal standpipe</td>\n",
       "      <td>communal standpipe</td>\n",
       "    </tr>\n",
       "  </tbody>\n",
       "</table>\n",
       "<p>5 rows × 40 columns</p>\n",
       "</div>"
      ],
      "text/plain": [
       "      id  amount_tsh date_recorded                  funder  gps_height  \\\n",
       "0  50785         0.0    2013-02-04                    Dmdd        1996   \n",
       "1  51630         0.0    2013-02-04  Government Of Tanzania        1569   \n",
       "2  17168         0.0    2013-02-01                     NaN        1567   \n",
       "3  45559         0.0    2013-01-22              Finn Water         267   \n",
       "4  49871       500.0    2013-03-27                  Bruder        1260   \n",
       "\n",
       "    installer  longitude   latitude                 wpt_name  num_private  \\\n",
       "0        DMDD  35.290799  -4.059696  Dinamu Secondary School            0   \n",
       "1         DWE  36.656709  -3.309214                  Kimnyak            0   \n",
       "2         NaN  34.767863  -5.004344           Puma Secondary            0   \n",
       "3  FINN WATER  38.058046  -9.418672           Kwa Mzee Pange            0   \n",
       "4      BRUDER  35.006123 -10.950412          Kwa Mzee Turuka            0   \n",
       "\n",
       "   ... payment_type water_quality quality_group      quantity  quantity_group  \\\n",
       "0  ...    never pay          soft          good      seasonal        seasonal   \n",
       "1  ...    never pay          soft          good  insufficient    insufficient   \n",
       "2  ...    never pay          soft          good  insufficient    insufficient   \n",
       "3  ...      unknown          soft          good           dry             dry   \n",
       "4  ...      monthly          soft          good        enough          enough   \n",
       "\n",
       "                 source           source_type  source_class  \\\n",
       "0  rainwater harvesting  rainwater harvesting       surface   \n",
       "1                spring                spring   groundwater   \n",
       "2  rainwater harvesting  rainwater harvesting       surface   \n",
       "3          shallow well          shallow well   groundwater   \n",
       "4                spring                spring   groundwater   \n",
       "\n",
       "      waterpoint_type waterpoint_type_group  \n",
       "0               other                 other  \n",
       "1  communal standpipe    communal standpipe  \n",
       "2               other                 other  \n",
       "3               other                 other  \n",
       "4  communal standpipe    communal standpipe  \n",
       "\n",
       "[5 rows x 40 columns]"
      ]
     },
     "execution_count": 4,
     "metadata": {},
     "output_type": "execute_result"
    }
   ],
   "source": [
    "data_test.head()"
   ]
  },
  {
   "cell_type": "code",
   "execution_count": 5,
   "id": "755a0e00-39cc-4116-8cf5-c4b6715b63dc",
   "metadata": {},
   "outputs": [
    {
     "data": {
      "text/html": [
       "<div>\n",
       "<style scoped>\n",
       "    .dataframe tbody tr th:only-of-type {\n",
       "        vertical-align: middle;\n",
       "    }\n",
       "\n",
       "    .dataframe tbody tr th {\n",
       "        vertical-align: top;\n",
       "    }\n",
       "\n",
       "    .dataframe thead th {\n",
       "        text-align: right;\n",
       "    }\n",
       "</style>\n",
       "<table border=\"1\" class=\"dataframe\">\n",
       "  <thead>\n",
       "    <tr style=\"text-align: right;\">\n",
       "      <th></th>\n",
       "      <th>id</th>\n",
       "      <th>status_group</th>\n",
       "    </tr>\n",
       "  </thead>\n",
       "  <tbody>\n",
       "    <tr>\n",
       "      <th>0</th>\n",
       "      <td>69572</td>\n",
       "      <td>functional</td>\n",
       "    </tr>\n",
       "    <tr>\n",
       "      <th>1</th>\n",
       "      <td>8776</td>\n",
       "      <td>functional</td>\n",
       "    </tr>\n",
       "    <tr>\n",
       "      <th>2</th>\n",
       "      <td>34310</td>\n",
       "      <td>functional</td>\n",
       "    </tr>\n",
       "    <tr>\n",
       "      <th>3</th>\n",
       "      <td>67743</td>\n",
       "      <td>non functional</td>\n",
       "    </tr>\n",
       "    <tr>\n",
       "      <th>4</th>\n",
       "      <td>19728</td>\n",
       "      <td>functional</td>\n",
       "    </tr>\n",
       "    <tr>\n",
       "      <th>...</th>\n",
       "      <td>...</td>\n",
       "      <td>...</td>\n",
       "    </tr>\n",
       "    <tr>\n",
       "      <th>59395</th>\n",
       "      <td>60739</td>\n",
       "      <td>functional</td>\n",
       "    </tr>\n",
       "    <tr>\n",
       "      <th>59396</th>\n",
       "      <td>27263</td>\n",
       "      <td>functional</td>\n",
       "    </tr>\n",
       "    <tr>\n",
       "      <th>59397</th>\n",
       "      <td>37057</td>\n",
       "      <td>functional</td>\n",
       "    </tr>\n",
       "    <tr>\n",
       "      <th>59398</th>\n",
       "      <td>31282</td>\n",
       "      <td>functional</td>\n",
       "    </tr>\n",
       "    <tr>\n",
       "      <th>59399</th>\n",
       "      <td>26348</td>\n",
       "      <td>functional</td>\n",
       "    </tr>\n",
       "  </tbody>\n",
       "</table>\n",
       "<p>59400 rows × 2 columns</p>\n",
       "</div>"
      ],
      "text/plain": [
       "          id    status_group\n",
       "0      69572      functional\n",
       "1       8776      functional\n",
       "2      34310      functional\n",
       "3      67743  non functional\n",
       "4      19728      functional\n",
       "...      ...             ...\n",
       "59395  60739      functional\n",
       "59396  27263      functional\n",
       "59397  37057      functional\n",
       "59398  31282      functional\n",
       "59399  26348      functional\n",
       "\n",
       "[59400 rows x 2 columns]"
      ]
     },
     "execution_count": 5,
     "metadata": {},
     "output_type": "execute_result"
    }
   ],
   "source": [
    "# Labels\n",
    "data_labels = pd.read_csv(\"C://Users//faman//Desktop//Master Big Data UCM//Curso 8. Machine Learning//evaluacion//labels.csv\")\n",
    "data_labels"
   ]
  },
  {
   "cell_type": "markdown",
   "id": "89272797-a576-4b47-945c-2e48b6c36726",
   "metadata": {},
   "source": [
    "**Separamos las columnas de acuerdo a si son categóricas o numéricas**"
   ]
  },
  {
   "cell_type": "code",
   "execution_count": 6,
   "id": "f97cc5df-ff77-437c-b0cc-235ac3c142fb",
   "metadata": {},
   "outputs": [],
   "source": [
    "cat_cols= data_training.select_dtypes(include=['object','category']).columns\n",
    "num_cols = data_training.select_dtypes(exclude=['object','category']).columns"
   ]
  },
  {
   "cell_type": "code",
   "execution_count": 7,
   "id": "bd05b5a4-17a3-4b61-9e5f-3071c9b93f79",
   "metadata": {},
   "outputs": [
    {
     "data": {
      "text/html": [
       "<div>\n",
       "<style scoped>\n",
       "    .dataframe tbody tr th:only-of-type {\n",
       "        vertical-align: middle;\n",
       "    }\n",
       "\n",
       "    .dataframe tbody tr th {\n",
       "        vertical-align: top;\n",
       "    }\n",
       "\n",
       "    .dataframe thead th {\n",
       "        text-align: right;\n",
       "    }\n",
       "</style>\n",
       "<table border=\"1\" class=\"dataframe\">\n",
       "  <thead>\n",
       "    <tr style=\"text-align: right;\">\n",
       "      <th></th>\n",
       "      <th>funder</th>\n",
       "      <th>installer</th>\n",
       "      <th>wpt_name</th>\n",
       "      <th>basin</th>\n",
       "      <th>subvillage</th>\n",
       "      <th>region</th>\n",
       "      <th>lga</th>\n",
       "      <th>ward</th>\n",
       "      <th>public_meeting</th>\n",
       "      <th>recorded_by</th>\n",
       "      <th>...</th>\n",
       "      <th>payment_type</th>\n",
       "      <th>water_quality</th>\n",
       "      <th>quality_group</th>\n",
       "      <th>quantity</th>\n",
       "      <th>quantity_group</th>\n",
       "      <th>source</th>\n",
       "      <th>source_type</th>\n",
       "      <th>source_class</th>\n",
       "      <th>waterpoint_type</th>\n",
       "      <th>waterpoint_type_group</th>\n",
       "    </tr>\n",
       "  </thead>\n",
       "  <tbody>\n",
       "    <tr>\n",
       "      <th>count</th>\n",
       "      <td>55763</td>\n",
       "      <td>55745</td>\n",
       "      <td>59398</td>\n",
       "      <td>59400</td>\n",
       "      <td>59029</td>\n",
       "      <td>59400</td>\n",
       "      <td>59400</td>\n",
       "      <td>59400</td>\n",
       "      <td>56066</td>\n",
       "      <td>59400</td>\n",
       "      <td>...</td>\n",
       "      <td>59400</td>\n",
       "      <td>59400</td>\n",
       "      <td>59400</td>\n",
       "      <td>59400</td>\n",
       "      <td>59400</td>\n",
       "      <td>59400</td>\n",
       "      <td>59400</td>\n",
       "      <td>59400</td>\n",
       "      <td>59400</td>\n",
       "      <td>59400</td>\n",
       "    </tr>\n",
       "    <tr>\n",
       "      <th>unique</th>\n",
       "      <td>1896</td>\n",
       "      <td>2145</td>\n",
       "      <td>37399</td>\n",
       "      <td>9</td>\n",
       "      <td>19287</td>\n",
       "      <td>21</td>\n",
       "      <td>125</td>\n",
       "      <td>2092</td>\n",
       "      <td>2</td>\n",
       "      <td>1</td>\n",
       "      <td>...</td>\n",
       "      <td>7</td>\n",
       "      <td>8</td>\n",
       "      <td>6</td>\n",
       "      <td>5</td>\n",
       "      <td>5</td>\n",
       "      <td>10</td>\n",
       "      <td>7</td>\n",
       "      <td>3</td>\n",
       "      <td>7</td>\n",
       "      <td>6</td>\n",
       "    </tr>\n",
       "    <tr>\n",
       "      <th>top</th>\n",
       "      <td>Government Of Tanzania</td>\n",
       "      <td>DWE</td>\n",
       "      <td>none</td>\n",
       "      <td>Lake Victoria</td>\n",
       "      <td>Madukani</td>\n",
       "      <td>Iringa</td>\n",
       "      <td>Njombe</td>\n",
       "      <td>Igosi</td>\n",
       "      <td>True</td>\n",
       "      <td>GeoData Consultants Ltd</td>\n",
       "      <td>...</td>\n",
       "      <td>never pay</td>\n",
       "      <td>soft</td>\n",
       "      <td>good</td>\n",
       "      <td>enough</td>\n",
       "      <td>enough</td>\n",
       "      <td>spring</td>\n",
       "      <td>spring</td>\n",
       "      <td>groundwater</td>\n",
       "      <td>communal standpipe</td>\n",
       "      <td>communal standpipe</td>\n",
       "    </tr>\n",
       "    <tr>\n",
       "      <th>freq</th>\n",
       "      <td>9084</td>\n",
       "      <td>17402</td>\n",
       "      <td>3563</td>\n",
       "      <td>10248</td>\n",
       "      <td>508</td>\n",
       "      <td>5294</td>\n",
       "      <td>2503</td>\n",
       "      <td>307</td>\n",
       "      <td>51011</td>\n",
       "      <td>59400</td>\n",
       "      <td>...</td>\n",
       "      <td>25348</td>\n",
       "      <td>50818</td>\n",
       "      <td>50818</td>\n",
       "      <td>33186</td>\n",
       "      <td>33186</td>\n",
       "      <td>17021</td>\n",
       "      <td>17021</td>\n",
       "      <td>45794</td>\n",
       "      <td>28522</td>\n",
       "      <td>34625</td>\n",
       "    </tr>\n",
       "  </tbody>\n",
       "</table>\n",
       "<p>4 rows × 29 columns</p>\n",
       "</div>"
      ],
      "text/plain": [
       "                        funder installer wpt_name          basin subvillage  \\\n",
       "count                    55763     55745    59398          59400      59029   \n",
       "unique                    1896      2145    37399              9      19287   \n",
       "top     Government Of Tanzania       DWE     none  Lake Victoria   Madukani   \n",
       "freq                      9084     17402     3563          10248        508   \n",
       "\n",
       "        region     lga   ward public_meeting              recorded_by  ...  \\\n",
       "count    59400   59400  59400          56066                    59400  ...   \n",
       "unique      21     125   2092              2                        1  ...   \n",
       "top     Iringa  Njombe  Igosi           True  GeoData Consultants Ltd  ...   \n",
       "freq      5294    2503    307          51011                    59400  ...   \n",
       "\n",
       "       payment_type water_quality quality_group quantity quantity_group  \\\n",
       "count         59400         59400         59400    59400          59400   \n",
       "unique            7             8             6        5              5   \n",
       "top       never pay          soft          good   enough         enough   \n",
       "freq          25348         50818         50818    33186          33186   \n",
       "\n",
       "        source source_type source_class     waterpoint_type  \\\n",
       "count    59400       59400        59400               59400   \n",
       "unique      10           7            3                   7   \n",
       "top     spring      spring  groundwater  communal standpipe   \n",
       "freq     17021       17021        45794               28522   \n",
       "\n",
       "       waterpoint_type_group  \n",
       "count                  59400  \n",
       "unique                     6  \n",
       "top       communal standpipe  \n",
       "freq                   34625  \n",
       "\n",
       "[4 rows x 29 columns]"
      ]
     },
     "execution_count": 7,
     "metadata": {},
     "output_type": "execute_result"
    }
   ],
   "source": [
    "data_training[cat_cols].describe()"
   ]
  },
  {
   "cell_type": "markdown",
   "id": "f4eaa5ab-a4d8-4bbb-be77-e371f8884b2d",
   "metadata": {},
   "source": [
    "**La idea ahora es pre-procesar los datos**"
   ]
  },
  {
   "cell_type": "markdown",
   "id": "5e21727b-0457-4d82-a4e3-74a6f0b4aab1",
   "metadata": {},
   "source": [
    "**II. Tratamiento de variables numéricas**"
   ]
  },
  {
   "cell_type": "code",
   "execution_count": 8,
   "id": "5cebbad0-d764-47de-a48e-64c225629850",
   "metadata": {},
   "outputs": [
    {
     "data": {
      "text/html": [
       "<div>\n",
       "<style scoped>\n",
       "    .dataframe tbody tr th:only-of-type {\n",
       "        vertical-align: middle;\n",
       "    }\n",
       "\n",
       "    .dataframe tbody tr th {\n",
       "        vertical-align: top;\n",
       "    }\n",
       "\n",
       "    .dataframe thead th {\n",
       "        text-align: right;\n",
       "    }\n",
       "</style>\n",
       "<table border=\"1\" class=\"dataframe\">\n",
       "  <thead>\n",
       "    <tr style=\"text-align: right;\">\n",
       "      <th></th>\n",
       "      <th>id</th>\n",
       "      <th>amount_tsh</th>\n",
       "      <th>date_recorded</th>\n",
       "      <th>gps_height</th>\n",
       "      <th>longitude</th>\n",
       "      <th>latitude</th>\n",
       "      <th>num_private</th>\n",
       "      <th>region_code</th>\n",
       "      <th>district_code</th>\n",
       "      <th>population</th>\n",
       "      <th>construction_year</th>\n",
       "    </tr>\n",
       "  </thead>\n",
       "  <tbody>\n",
       "    <tr>\n",
       "      <th>count</th>\n",
       "      <td>59400.000000</td>\n",
       "      <td>59400.000000</td>\n",
       "      <td>59400</td>\n",
       "      <td>59400.000000</td>\n",
       "      <td>59400.000000</td>\n",
       "      <td>5.940000e+04</td>\n",
       "      <td>59400.000000</td>\n",
       "      <td>59400.000000</td>\n",
       "      <td>59400.000000</td>\n",
       "      <td>59400.000000</td>\n",
       "      <td>59400.000000</td>\n",
       "    </tr>\n",
       "    <tr>\n",
       "      <th>mean</th>\n",
       "      <td>37115.131768</td>\n",
       "      <td>317.650385</td>\n",
       "      <td>2012-03-29 09:11:33.818181888</td>\n",
       "      <td>668.297239</td>\n",
       "      <td>34.077427</td>\n",
       "      <td>-5.706033e+00</td>\n",
       "      <td>0.474141</td>\n",
       "      <td>15.297003</td>\n",
       "      <td>5.629747</td>\n",
       "      <td>179.909983</td>\n",
       "      <td>1300.652475</td>\n",
       "    </tr>\n",
       "    <tr>\n",
       "      <th>min</th>\n",
       "      <td>0.000000</td>\n",
       "      <td>0.000000</td>\n",
       "      <td>2002-10-14 00:00:00</td>\n",
       "      <td>-90.000000</td>\n",
       "      <td>0.000000</td>\n",
       "      <td>-1.164944e+01</td>\n",
       "      <td>0.000000</td>\n",
       "      <td>1.000000</td>\n",
       "      <td>0.000000</td>\n",
       "      <td>0.000000</td>\n",
       "      <td>0.000000</td>\n",
       "    </tr>\n",
       "    <tr>\n",
       "      <th>25%</th>\n",
       "      <td>18519.750000</td>\n",
       "      <td>0.000000</td>\n",
       "      <td>2011-04-01 00:00:00</td>\n",
       "      <td>0.000000</td>\n",
       "      <td>33.090347</td>\n",
       "      <td>-8.540621e+00</td>\n",
       "      <td>0.000000</td>\n",
       "      <td>5.000000</td>\n",
       "      <td>2.000000</td>\n",
       "      <td>0.000000</td>\n",
       "      <td>0.000000</td>\n",
       "    </tr>\n",
       "    <tr>\n",
       "      <th>50%</th>\n",
       "      <td>37061.500000</td>\n",
       "      <td>0.000000</td>\n",
       "      <td>2012-10-10 00:00:00</td>\n",
       "      <td>369.000000</td>\n",
       "      <td>34.908743</td>\n",
       "      <td>-5.021597e+00</td>\n",
       "      <td>0.000000</td>\n",
       "      <td>12.000000</td>\n",
       "      <td>3.000000</td>\n",
       "      <td>25.000000</td>\n",
       "      <td>1986.000000</td>\n",
       "    </tr>\n",
       "    <tr>\n",
       "      <th>75%</th>\n",
       "      <td>55656.500000</td>\n",
       "      <td>20.000000</td>\n",
       "      <td>2013-02-09 00:00:00</td>\n",
       "      <td>1319.250000</td>\n",
       "      <td>37.178387</td>\n",
       "      <td>-3.326156e+00</td>\n",
       "      <td>0.000000</td>\n",
       "      <td>17.000000</td>\n",
       "      <td>5.000000</td>\n",
       "      <td>215.000000</td>\n",
       "      <td>2004.000000</td>\n",
       "    </tr>\n",
       "    <tr>\n",
       "      <th>max</th>\n",
       "      <td>74247.000000</td>\n",
       "      <td>350000.000000</td>\n",
       "      <td>2013-12-03 00:00:00</td>\n",
       "      <td>2770.000000</td>\n",
       "      <td>40.345193</td>\n",
       "      <td>-2.000000e-08</td>\n",
       "      <td>1776.000000</td>\n",
       "      <td>99.000000</td>\n",
       "      <td>80.000000</td>\n",
       "      <td>30500.000000</td>\n",
       "      <td>2013.000000</td>\n",
       "    </tr>\n",
       "    <tr>\n",
       "      <th>std</th>\n",
       "      <td>21453.128371</td>\n",
       "      <td>2997.574558</td>\n",
       "      <td>NaN</td>\n",
       "      <td>693.116350</td>\n",
       "      <td>6.567432</td>\n",
       "      <td>2.946019e+00</td>\n",
       "      <td>12.236230</td>\n",
       "      <td>17.587406</td>\n",
       "      <td>9.633649</td>\n",
       "      <td>471.482176</td>\n",
       "      <td>951.620547</td>\n",
       "    </tr>\n",
       "  </tbody>\n",
       "</table>\n",
       "</div>"
      ],
      "text/plain": [
       "                 id     amount_tsh                  date_recorded  \\\n",
       "count  59400.000000   59400.000000                          59400   \n",
       "mean   37115.131768     317.650385  2012-03-29 09:11:33.818181888   \n",
       "min        0.000000       0.000000            2002-10-14 00:00:00   \n",
       "25%    18519.750000       0.000000            2011-04-01 00:00:00   \n",
       "50%    37061.500000       0.000000            2012-10-10 00:00:00   \n",
       "75%    55656.500000      20.000000            2013-02-09 00:00:00   \n",
       "max    74247.000000  350000.000000            2013-12-03 00:00:00   \n",
       "std    21453.128371    2997.574558                            NaN   \n",
       "\n",
       "         gps_height     longitude      latitude   num_private   region_code  \\\n",
       "count  59400.000000  59400.000000  5.940000e+04  59400.000000  59400.000000   \n",
       "mean     668.297239     34.077427 -5.706033e+00      0.474141     15.297003   \n",
       "min      -90.000000      0.000000 -1.164944e+01      0.000000      1.000000   \n",
       "25%        0.000000     33.090347 -8.540621e+00      0.000000      5.000000   \n",
       "50%      369.000000     34.908743 -5.021597e+00      0.000000     12.000000   \n",
       "75%     1319.250000     37.178387 -3.326156e+00      0.000000     17.000000   \n",
       "max     2770.000000     40.345193 -2.000000e-08   1776.000000     99.000000   \n",
       "std      693.116350      6.567432  2.946019e+00     12.236230     17.587406   \n",
       "\n",
       "       district_code    population  construction_year  \n",
       "count   59400.000000  59400.000000       59400.000000  \n",
       "mean        5.629747    179.909983        1300.652475  \n",
       "min         0.000000      0.000000           0.000000  \n",
       "25%         2.000000      0.000000           0.000000  \n",
       "50%         3.000000     25.000000        1986.000000  \n",
       "75%         5.000000    215.000000        2004.000000  \n",
       "max        80.000000  30500.000000        2013.000000  \n",
       "std         9.633649    471.482176         951.620547  "
      ]
     },
     "execution_count": 8,
     "metadata": {},
     "output_type": "execute_result"
    }
   ],
   "source": [
    "data_training[num_cols].describe()"
   ]
  },
  {
   "cell_type": "markdown",
   "id": "3e9ba596-f76d-4b04-b83c-f88a0f7e0e3c",
   "metadata": {},
   "source": [
    "**1. latitud y longitud**"
   ]
  },
  {
   "cell_type": "markdown",
   "id": "19d0e619-fb31-410c-9070-47f56ebad2f2",
   "metadata": {},
   "source": [
    "**Examinemos las distribuciones de ambas variables**"
   ]
  },
  {
   "cell_type": "code",
   "execution_count": null,
   "id": "4399f6fb-5c21-4edf-b9b5-3c981148a8b0",
   "metadata": {},
   "outputs": [],
   "source": []
  },
  {
   "cell_type": "code",
   "execution_count": 9,
   "id": "8e2c47fe-7de9-47cb-8f6f-85be0bc56951",
   "metadata": {},
   "outputs": [
    {
     "name": "stdout",
     "output_type": "stream",
     "text": [
      "              Valor  Frecuencia\n",
      "0     -2.000000e-08        1812\n",
      "1     -6.985842e+00           2\n",
      "2     -6.980220e+00           2\n",
      "3     -2.476680e+00           2\n",
      "4     -6.978263e+00           2\n",
      "...             ...         ...\n",
      "57512 -3.287619e+00           1\n",
      "57513 -8.234989e+00           1\n",
      "57514 -3.268579e+00           1\n",
      "57515 -1.146053e+01           1\n",
      "57516 -6.747464e+00           1\n",
      "\n",
      "[57517 rows x 2 columns]\n"
     ]
    },
    {
     "data": {
      "image/png": "[encoded data removed]",
      "text/plain": [
       "<Figure size 640x480 with 1 Axes>"
      ]
     },
     "metadata": {},
     "output_type": "display_data"
    },
    {
     "data": {
      "image/png": "[encoded data removed]",
      "text/plain": [
       "<Figure size 640x480 with 1 Axes>"
      ]
     },
     "metadata": {},
     "output_type": "display_data"
    }
   ],
   "source": [
    "#Latitud\n",
    "\n",
    "tabla_frecuencias = data_training['latitude'].value_counts().reset_index()\n",
    "tabla_frecuencias.columns = ['Valor', 'Frecuencia']\n",
    "print(tabla_frecuencias)\n",
    "\n",
    "# histograma\n",
    "plt.hist(data_training['latitude'], bins=20)\n",
    "plt.xlabel('Variable Numérica')\n",
    "plt.ylabel('Frecuencia')\n",
    "plt.title('Histograma de Variable Numérica')\n",
    "plt.show()\n",
    "\n",
    "\n",
    "# diagrama de caja\n",
    "plt.boxplot(data_training['latitude'])\n",
    "plt.xlabel('Variable Numérica')\n",
    "plt.title('Diagrama de Caja de Variable Numérica')\n",
    "plt.show()"
   ]
  },
  {
   "cell_type": "markdown",
   "id": "9c67c89c-89bc-44ef-9d64-e1f55854c19c",
   "metadata": {},
   "source": [
    "**Esta variable estaría bien, ya que sigue una distribución relativamente normal y no tiene outliers**"
   ]
  },
  {
   "cell_type": "code",
   "execution_count": 10,
   "id": "1663dbf4-5265-451e-8735-02a42b21ba50",
   "metadata": {},
   "outputs": [
    {
     "name": "stdout",
     "output_type": "stream",
     "text": [
      "           Valor  Frecuencia\n",
      "0       0.000000        1812\n",
      "1      37.375717           2\n",
      "2      38.340501           2\n",
      "3      39.086183           2\n",
      "4      33.005032           2\n",
      "...          ...         ...\n",
      "57511  35.885754           1\n",
      "57512  36.626541           1\n",
      "57513  37.333530           1\n",
      "57514  38.970078           1\n",
      "57515  38.104048           1\n",
      "\n",
      "[57516 rows x 2 columns]\n"
     ]
    },
    {
     "data": {
      "image/png": "[encoded data removed]",
      "text/plain": [
       "<Figure size 640x480 with 1 Axes>"
      ]
     },
     "metadata": {},
     "output_type": "display_data"
    },
    {
     "data": {
      "image/png": "[encoded data removed]",
      "text/plain": [
       "<Figure size 640x480 with 1 Axes>"
      ]
     },
     "metadata": {},
     "output_type": "display_data"
    }
   ],
   "source": [
    "#Longitud\n",
    "\n",
    "tabla_frecuencias = data_training['longitude'].value_counts().reset_index()\n",
    "tabla_frecuencias.columns = ['Valor', 'Frecuencia']\n",
    "print(tabla_frecuencias)\n",
    "\n",
    "\n",
    "# histograma\n",
    "plt.hist(data_training['longitude'], bins=20)\n",
    "plt.xlabel('Variable Numérica')\n",
    "plt.ylabel('Frecuencia')\n",
    "plt.title('Histograma de Variable Numérica')\n",
    "plt.show()\n",
    "\n",
    "\n",
    "# diagrama de caja\n",
    "plt.boxplot(data_training['longitude'])\n",
    "plt.xlabel('Variable Numérica')\n",
    "plt.title('Diagrama de Caja de Variable Numérica')\n",
    "plt.show()\n"
   ]
  },
  {
   "cell_type": "markdown",
   "id": "46a8afd8-b920-4b95-b767-90c4a8225328",
   "metadata": {},
   "source": [
    "**Esta variable si tiene problemas, por los valores 0, que representan un porcentaje no menor de los datos. Se asumiría que son valores nulos, por lo que se procederá a aplicar alguna técnica de imputación**"
   ]
  },
  {
   "cell_type": "code",
   "execution_count": 11,
   "id": "ecafc533-3abb-4f29-836a-6f94bf96d11d",
   "metadata": {},
   "outputs": [],
   "source": [
    "import numpy as np\n",
    "\n",
    "# Convertir los valores 0 en nulos en la columna 'longitud'\n",
    "data_training['longitude'] = data_training['longitude'].replace(0, np.nan)\n",
    "\n"
   ]
  },
  {
   "cell_type": "code",
   "execution_count": 12,
   "id": "acbe0e68-559c-49af-8e97-66acc9939dcc",
   "metadata": {},
   "outputs": [],
   "source": [
    "from sklearn.impute import KNNImputer\n",
    "\n",
    "# Aplicar imputación por KNN a la columna 'longitud'\n",
    "imputer = KNNImputer(n_neighbors=5)\n",
    "data_training['longitude'] = imputer.fit_transform(data_training[['longitude']])\n"
   ]
  },
  {
   "cell_type": "code",
   "execution_count": 13,
   "id": "7adf88c7-23a5-40f7-beb7-5efffacc202e",
   "metadata": {},
   "outputs": [
    {
     "name": "stdout",
     "output_type": "stream",
     "text": [
      "           Valor  Frecuencia\n",
      "0      35.149669        1812\n",
      "1      37.375717           2\n",
      "2      38.340501           2\n",
      "3      39.086183           2\n",
      "4      33.005032           2\n",
      "...          ...         ...\n",
      "57511  35.885754           1\n",
      "57512  36.626541           1\n",
      "57513  37.333530           1\n",
      "57514  38.970078           1\n",
      "57515  38.104048           1\n",
      "\n",
      "[57516 rows x 2 columns]\n"
     ]
    },
    {
     "data": {
      "image/png": "[encoded data removed]",
      "text/plain": [
       "<Figure size 640x480 with 1 Axes>"
      ]
     },
     "metadata": {},
     "output_type": "display_data"
    },
    {
     "data": {
      "image/png": "[encoded data removed]",
      "text/plain": [
       "<Figure size 640x480 with 1 Axes>"
      ]
     },
     "metadata": {},
     "output_type": "display_data"
    }
   ],
   "source": [
    "#Verificamos ahora como quedó la variable\n",
    "\n",
    "tabla_frecuencias = data_training['longitude'].value_counts().reset_index()\n",
    "tabla_frecuencias.columns = ['Valor', 'Frecuencia']\n",
    "print(tabla_frecuencias)\n",
    "\n",
    "\n",
    "# histograma\n",
    "plt.hist(data_training['longitude'], bins=20)\n",
    "plt.xlabel('Variable Numérica')\n",
    "plt.ylabel('Frecuencia')\n",
    "plt.title('Histograma de Variable Numérica')\n",
    "plt.show()\n",
    "\n",
    "\n",
    "# diagrama de caja\n",
    "plt.boxplot(data_training['longitude'])\n",
    "plt.xlabel('Variable Numérica')\n",
    "plt.title('Diagrama de Caja de Variable Numérica')\n",
    "plt.show()"
   ]
  },
  {
   "cell_type": "markdown",
   "id": "e38e40b5-ea0c-4970-978d-2e10aaf0d20e",
   "metadata": {},
   "source": [
    "**Como resultado, la variable mejoró bastante con la imputación**"
   ]
  },
  {
   "cell_type": "markdown",
   "id": "ee2ded1f-044c-4695-97aa-8cf310dbdb28",
   "metadata": {},
   "source": [
    "**Ahora repetimos el proceso con el dataset de test, analizando primero la distribución y luego imputando en caso de ser necesario**"
   ]
  },
  {
   "cell_type": "code",
   "execution_count": 14,
   "id": "5787ff21-fbcc-4eca-9f54-70ecb0c25cf8",
   "metadata": {},
   "outputs": [
    {
     "name": "stdout",
     "output_type": "stream",
     "text": [
      "              Valor  Frecuencia\n",
      "0     -2.000000e-08         457\n",
      "1     -7.105919e+00           2\n",
      "2     -6.990042e+00           2\n",
      "3     -7.170666e+00           2\n",
      "4     -2.474560e+00           2\n",
      "...             ...         ...\n",
      "14385 -3.305540e+00           1\n",
      "14386 -8.547786e+00           1\n",
      "14387 -3.330889e+00           1\n",
      "14388 -7.061047e+00           1\n",
      "14389 -1.122601e+01           1\n",
      "\n",
      "[14390 rows x 2 columns]\n"
     ]
    },
    {
     "data": {
      "image/png": "[encoded data removed]",
      "text/plain": [
       "<Figure size 640x480 with 1 Axes>"
      ]
     },
     "metadata": {},
     "output_type": "display_data"
    },
    {
     "data": {
      "image/png": "[encoded data removed]",
      "text/plain": [
       "<Figure size 640x480 with 1 Axes>"
      ]
     },
     "metadata": {},
     "output_type": "display_data"
    }
   ],
   "source": [
    "#Dataset de test\n",
    "\n",
    "#Latitud\n",
    "\n",
    "tabla_frecuencias = data_test['latitude'].value_counts().reset_index()\n",
    "tabla_frecuencias.columns = ['Valor', 'Frecuencia']\n",
    "print(tabla_frecuencias)\n",
    "\n",
    "\n",
    "# histograma\n",
    "plt.hist(data_test['latitude'], bins=20)\n",
    "plt.xlabel('Variable Numérica')\n",
    "plt.ylabel('Frecuencia')\n",
    "plt.title('Histograma de Variable Numérica')\n",
    "plt.show()\n",
    "\n",
    "\n",
    "# diagrama de caja\n",
    "plt.boxplot(data_test['latitude'])\n",
    "plt.xlabel('Variable Numérica')\n",
    "plt.title('Diagrama de Caja de Variable Numérica')\n",
    "plt.show()"
   ]
  },
  {
   "cell_type": "markdown",
   "id": "e74f6db2-fd79-429b-802a-160d4c15f04a",
   "metadata": {},
   "source": [
    "**Esta variable estaría ok, ya que sigue una distribución similar a la del dataset de training, sin outliers**"
   ]
  },
  {
   "cell_type": "code",
   "execution_count": 15,
   "id": "84ce66a6-8b0f-4620-b8cb-05cefab2ce80",
   "metadata": {},
   "outputs": [
    {
     "name": "stdout",
     "output_type": "stream",
     "text": [
      "           Valor  Frecuencia\n",
      "0       0.000000         457\n",
      "1      37.260069           2\n",
      "2      39.080573           2\n",
      "3      37.302281           2\n",
      "4      32.920579           2\n",
      "...          ...         ...\n",
      "14385  36.648520           1\n",
      "14386  35.265755           1\n",
      "14387  36.666660           1\n",
      "14388  37.830317           1\n",
      "14389  34.765054           1\n",
      "\n",
      "[14390 rows x 2 columns]\n"
     ]
    },
    {
     "data": {
      "image/png": "[encoded data removed]",
      "text/plain": [
       "<Figure size 640x480 with 1 Axes>"
      ]
     },
     "metadata": {},
     "output_type": "display_data"
    },
    {
     "data": {
      "image/png": "[encoded data removed]",
      "text/plain": [
       "<Figure size 640x480 with 1 Axes>"
      ]
     },
     "metadata": {},
     "output_type": "display_data"
    }
   ],
   "source": [
    "#Longitud\n",
    "\n",
    "tabla_frecuencias = data_test['longitude'].value_counts().reset_index()\n",
    "tabla_frecuencias.columns = ['Valor', 'Frecuencia']\n",
    "print(tabla_frecuencias)\n",
    "\n",
    "\n",
    "# histograma\n",
    "plt.hist(data_test['longitude'], bins=20)\n",
    "plt.xlabel('Variable Numérica')\n",
    "plt.ylabel('Frecuencia')\n",
    "plt.title('Histograma de Variable Numérica')\n",
    "plt.show()\n",
    "\n",
    "\n",
    "# diagrama de caja\n",
    "plt.boxplot(data_test['longitude'])\n",
    "plt.xlabel('Variable Numérica')\n",
    "plt.title('Diagrama de Caja de Variable Numérica')\n",
    "plt.show()"
   ]
  },
  {
   "cell_type": "markdown",
   "id": "e8a7f436-709c-4863-b656-45304d89890f",
   "metadata": {},
   "source": [
    "**Esta variable, al igual que sucedió con el dataset de training, si tiene problemas, por los valores 0, que representan un porcentaje no menor de los datos. Se asumiría que son valores nulos, por lo que se procederá a aplicar alguna técnica de imputación. Se repetirá el proceso realizado con el dataset de training**"
   ]
  },
  {
   "cell_type": "code",
   "execution_count": 16,
   "id": "a634f8b6-398f-44f4-9f40-bd10afba7a64",
   "metadata": {},
   "outputs": [],
   "source": [
    "import numpy as np\n",
    "\n",
    "# Convertir los valores 0 en nulos en la columna 'longitud'\n",
    "data_test['longitude'] = data_test['longitude'].replace(0, np.nan)\n",
    "\n"
   ]
  },
  {
   "cell_type": "code",
   "execution_count": 17,
   "id": "90d0ecf0-1ccb-44fb-868b-0f37f3f9bcad",
   "metadata": {},
   "outputs": [],
   "source": [
    "from sklearn.impute import KNNImputer\n",
    "\n",
    "# Aplicar imputación por KNN a la columna 'longitud'\n",
    "imputer = KNNImputer(n_neighbors=5)\n",
    "data_test['longitude'] = imputer.fit_transform(data_test[['longitude']])"
   ]
  },
  {
   "cell_type": "code",
   "execution_count": 18,
   "id": "7b07399c-9355-4845-bb7c-1504c52e7a0e",
   "metadata": {},
   "outputs": [
    {
     "name": "stdout",
     "output_type": "stream",
     "text": [
      "           Valor  Frecuencia\n",
      "0      35.143114         457\n",
      "1      37.260069           2\n",
      "2      39.080573           2\n",
      "3      37.302281           2\n",
      "4      32.920579           2\n",
      "...          ...         ...\n",
      "14385  36.648520           1\n",
      "14386  35.265755           1\n",
      "14387  36.666660           1\n",
      "14388  37.830317           1\n",
      "14389  34.765054           1\n",
      "\n",
      "[14390 rows x 2 columns]\n"
     ]
    },
    {
     "data": {
      "image/png": "[encoded data removed]",
      "text/plain": [
       "<Figure size 640x480 with 1 Axes>"
      ]
     },
     "metadata": {},
     "output_type": "display_data"
    },
    {
     "data": {
      "image/png": "[encoded data removed]",
      "text/plain": [
       "<Figure size 640x480 with 1 Axes>"
      ]
     },
     "metadata": {},
     "output_type": "display_data"
    }
   ],
   "source": [
    "#Verificamos ahora como quedó la variable\n",
    "\n",
    "tabla_frecuencias = data_test['longitude'].value_counts().reset_index()\n",
    "tabla_frecuencias.columns = ['Valor', 'Frecuencia']\n",
    "print(tabla_frecuencias)\n",
    "\n",
    "\n",
    "# histograma\n",
    "plt.hist(data_test['longitude'], bins=20)\n",
    "plt.xlabel('Variable Numérica')\n",
    "plt.ylabel('Frecuencia')\n",
    "plt.title('Histograma de Variable Numérica')\n",
    "plt.show()\n",
    "\n",
    "\n",
    "# diagrama de caja\n",
    "plt.boxplot(data_test['longitude'])\n",
    "plt.xlabel('Variable Numérica')\n",
    "plt.title('Diagrama de Caja de Variable Numérica')\n",
    "plt.show()"
   ]
  },
  {
   "cell_type": "markdown",
   "id": "f643ac4b-ac0c-44ec-a755-b2864ec48184",
   "metadata": {},
   "source": [
    "**Como resultado, la variable mejoró bastante con la imputación**"
   ]
  },
  {
   "cell_type": "markdown",
   "id": "331db746-e190-41ad-bb5a-c34746b36799",
   "metadata": {},
   "source": [
    "**2. data_recorded y num_private**"
   ]
  },
  {
   "cell_type": "markdown",
   "id": "fdea2a0b-13dd-4f7f-bf86-c269ac8c7d28",
   "metadata": {},
   "source": [
    "**Haciendo distintas pruebas, se llegó a la conclusión de que ambas variables no son relevantes para el modelo, por lo que se procederá a eliminar ambas de ambos datasets**"
   ]
  },
  {
   "cell_type": "code",
   "execution_count": 19,
   "id": "b1d01715-1441-4da9-adb1-a3576cf3192a",
   "metadata": {},
   "outputs": [],
   "source": [
    "\n",
    "columnas_a_eliminar_training = ['date_recorded','num_private']\n",
    "data_training = data_training.drop(columns=columnas_a_eliminar_training)\n",
    "\n",
    "columnas_a_eliminar_test = ['date_recorded', 'num_private']\n",
    "data_test = data_test.drop(columns=columnas_a_eliminar_test)\n"
   ]
  },
  {
   "cell_type": "code",
   "execution_count": 20,
   "id": "be1564b2-c432-4329-af1b-4b79f027fc51",
   "metadata": {},
   "outputs": [
    {
     "data": {
      "text/html": [
       "<div>\n",
       "<style scoped>\n",
       "    .dataframe tbody tr th:only-of-type {\n",
       "        vertical-align: middle;\n",
       "    }\n",
       "\n",
       "    .dataframe tbody tr th {\n",
       "        vertical-align: top;\n",
       "    }\n",
       "\n",
       "    .dataframe thead th {\n",
       "        text-align: right;\n",
       "    }\n",
       "</style>\n",
       "<table border=\"1\" class=\"dataframe\">\n",
       "  <thead>\n",
       "    <tr style=\"text-align: right;\">\n",
       "      <th></th>\n",
       "      <th>id</th>\n",
       "      <th>amount_tsh</th>\n",
       "      <th>gps_height</th>\n",
       "      <th>longitude</th>\n",
       "      <th>latitude</th>\n",
       "      <th>region_code</th>\n",
       "      <th>district_code</th>\n",
       "      <th>population</th>\n",
       "      <th>construction_year</th>\n",
       "    </tr>\n",
       "  </thead>\n",
       "  <tbody>\n",
       "    <tr>\n",
       "      <th>count</th>\n",
       "      <td>59400.000000</td>\n",
       "      <td>59400.000000</td>\n",
       "      <td>59400.000000</td>\n",
       "      <td>59400.000000</td>\n",
       "      <td>5.940000e+04</td>\n",
       "      <td>59400.000000</td>\n",
       "      <td>59400.000000</td>\n",
       "      <td>59400.000000</td>\n",
       "      <td>59400.000000</td>\n",
       "    </tr>\n",
       "    <tr>\n",
       "      <th>mean</th>\n",
       "      <td>37115.131768</td>\n",
       "      <td>317.650385</td>\n",
       "      <td>668.297239</td>\n",
       "      <td>35.149669</td>\n",
       "      <td>-5.706033e+00</td>\n",
       "      <td>15.297003</td>\n",
       "      <td>5.629747</td>\n",
       "      <td>179.909983</td>\n",
       "      <td>1300.652475</td>\n",
       "    </tr>\n",
       "    <tr>\n",
       "      <th>std</th>\n",
       "      <td>21453.128371</td>\n",
       "      <td>2997.574558</td>\n",
       "      <td>693.116350</td>\n",
       "      <td>2.567349</td>\n",
       "      <td>2.946019e+00</td>\n",
       "      <td>17.587406</td>\n",
       "      <td>9.633649</td>\n",
       "      <td>471.482176</td>\n",
       "      <td>951.620547</td>\n",
       "    </tr>\n",
       "    <tr>\n",
       "      <th>min</th>\n",
       "      <td>0.000000</td>\n",
       "      <td>0.000000</td>\n",
       "      <td>-90.000000</td>\n",
       "      <td>29.607122</td>\n",
       "      <td>-1.164944e+01</td>\n",
       "      <td>1.000000</td>\n",
       "      <td>0.000000</td>\n",
       "      <td>0.000000</td>\n",
       "      <td>0.000000</td>\n",
       "    </tr>\n",
       "    <tr>\n",
       "      <th>25%</th>\n",
       "      <td>18519.750000</td>\n",
       "      <td>0.000000</td>\n",
       "      <td>0.000000</td>\n",
       "      <td>33.354079</td>\n",
       "      <td>-8.540621e+00</td>\n",
       "      <td>5.000000</td>\n",
       "      <td>2.000000</td>\n",
       "      <td>0.000000</td>\n",
       "      <td>0.000000</td>\n",
       "    </tr>\n",
       "    <tr>\n",
       "      <th>50%</th>\n",
       "      <td>37061.500000</td>\n",
       "      <td>0.000000</td>\n",
       "      <td>369.000000</td>\n",
       "      <td>35.149669</td>\n",
       "      <td>-5.021597e+00</td>\n",
       "      <td>12.000000</td>\n",
       "      <td>3.000000</td>\n",
       "      <td>25.000000</td>\n",
       "      <td>1986.000000</td>\n",
       "    </tr>\n",
       "    <tr>\n",
       "      <th>75%</th>\n",
       "      <td>55656.500000</td>\n",
       "      <td>20.000000</td>\n",
       "      <td>1319.250000</td>\n",
       "      <td>37.178387</td>\n",
       "      <td>-3.326156e+00</td>\n",
       "      <td>17.000000</td>\n",
       "      <td>5.000000</td>\n",
       "      <td>215.000000</td>\n",
       "      <td>2004.000000</td>\n",
       "    </tr>\n",
       "    <tr>\n",
       "      <th>max</th>\n",
       "      <td>74247.000000</td>\n",
       "      <td>350000.000000</td>\n",
       "      <td>2770.000000</td>\n",
       "      <td>40.345193</td>\n",
       "      <td>-2.000000e-08</td>\n",
       "      <td>99.000000</td>\n",
       "      <td>80.000000</td>\n",
       "      <td>30500.000000</td>\n",
       "      <td>2013.000000</td>\n",
       "    </tr>\n",
       "  </tbody>\n",
       "</table>\n",
       "</div>"
      ],
      "text/plain": [
       "                 id     amount_tsh    gps_height     longitude      latitude  \\\n",
       "count  59400.000000   59400.000000  59400.000000  59400.000000  5.940000e+04   \n",
       "mean   37115.131768     317.650385    668.297239     35.149669 -5.706033e+00   \n",
       "std    21453.128371    2997.574558    693.116350      2.567349  2.946019e+00   \n",
       "min        0.000000       0.000000    -90.000000     29.607122 -1.164944e+01   \n",
       "25%    18519.750000       0.000000      0.000000     33.354079 -8.540621e+00   \n",
       "50%    37061.500000       0.000000    369.000000     35.149669 -5.021597e+00   \n",
       "75%    55656.500000      20.000000   1319.250000     37.178387 -3.326156e+00   \n",
       "max    74247.000000  350000.000000   2770.000000     40.345193 -2.000000e-08   \n",
       "\n",
       "        region_code  district_code    population  construction_year  \n",
       "count  59400.000000   59400.000000  59400.000000       59400.000000  \n",
       "mean      15.297003       5.629747    179.909983        1300.652475  \n",
       "std       17.587406       9.633649    471.482176         951.620547  \n",
       "min        1.000000       0.000000      0.000000           0.000000  \n",
       "25%        5.000000       2.000000      0.000000           0.000000  \n",
       "50%       12.000000       3.000000     25.000000        1986.000000  \n",
       "75%       17.000000       5.000000    215.000000        2004.000000  \n",
       "max       99.000000      80.000000  30500.000000        2013.000000  "
      ]
     },
     "execution_count": 20,
     "metadata": {},
     "output_type": "execute_result"
    }
   ],
   "source": [
    "num_cols = data_training.select_dtypes(exclude=['object','category']).columns\n",
    "data_training[num_cols].describe()"
   ]
  },
  {
   "cell_type": "code",
   "execution_count": 21,
   "id": "33013234-8dc7-43db-996c-6cb0aaebd165",
   "metadata": {},
   "outputs": [
    {
     "data": {
      "text/plain": [
       "id                    0.002623\n",
       "amount_tsh           57.807800\n",
       "gps_height            0.462402\n",
       "longitude            -0.136916\n",
       "latitude             -0.152037\n",
       "region_code           3.173818\n",
       "district_code         3.962045\n",
       "population           12.660714\n",
       "construction_year    -0.634928\n",
       "dtype: float64"
      ]
     },
     "execution_count": 21,
     "metadata": {},
     "output_type": "execute_result"
    }
   ],
   "source": [
    "# Ver asimetrías en las variables numéricas para ver que metodología emplear para tratar los outliers, en caso de que alguna variable tenga\n",
    "\n",
    "data_training.select_dtypes(include=np.number).apply(lambda x: x.skew())"
   ]
  },
  {
   "cell_type": "markdown",
   "id": "b9e6aa6f-dfd5-43e0-b3b7-ea0911f6a520",
   "metadata": {},
   "source": [
    "En primera instancia, se observa que amount_tsh y population tiene asimetrías importantes"
   ]
  },
  {
   "cell_type": "markdown",
   "id": "cba85309-08f3-4d84-b52e-0ed19a3d158c",
   "metadata": {},
   "source": [
    "**1. amount_tsh**"
   ]
  },
  {
   "cell_type": "code",
   "execution_count": 22,
   "id": "6efd78d7-e40d-4cb1-9fbd-bc26e520478e",
   "metadata": {},
   "outputs": [
    {
     "name": "stdout",
     "output_type": "stream",
     "text": [
      "id\n",
      "amount_tsh\n",
      "gps_height\n",
      "longitude\n",
      "latitude\n",
      "region_code\n",
      "district_code\n",
      "population\n",
      "construction_year\n",
      "id\n",
      "amount_tsh\n",
      "gps_height\n",
      "longitude\n",
      "latitude\n",
      "region_code\n",
      "district_code\n",
      "population\n",
      "construction_year\n"
     ]
    },
    {
     "name": "stderr",
     "output_type": "stream",
     "text": [
      "C:\\Users\\faman\\AppData\\Local\\Temp\\ipykernel_22612\\4219387555.py:11: DeprecationWarning: Please use `median_abs_deviation` from the `scipy.stats` namespace, the `scipy.stats.stats` namespace is deprecated.\n",
      "  criterio1 = abs((col-col.median())/stats.median_abs_deviation(col))>8\n",
      "C:\\Users\\faman\\AppData\\Local\\Temp\\ipykernel_22612\\4219387555.py:11: DeprecationWarning: Please use `median_abs_deviation` from the `scipy.stats` namespace, the `scipy.stats.stats` namespace is deprecated.\n",
      "  criterio1 = abs((col-col.median())/stats.median_abs_deviation(col))>8\n",
      "C:\\Users\\faman\\AppData\\Local\\Temp\\ipykernel_22612\\4219387555.py:11: DeprecationWarning: Please use `median_abs_deviation` from the `scipy.stats` namespace, the `scipy.stats.stats` namespace is deprecated.\n",
      "  criterio1 = abs((col-col.median())/stats.median_abs_deviation(col))>8\n",
      "C:\\Users\\faman\\AppData\\Local\\Temp\\ipykernel_22612\\4219387555.py:11: DeprecationWarning: Please use `median_abs_deviation` from the `scipy.stats` namespace, the `scipy.stats.stats` namespace is deprecated.\n",
      "  criterio1 = abs((col-col.median())/stats.median_abs_deviation(col))>8\n",
      "C:\\Users\\faman\\AppData\\Local\\Temp\\ipykernel_22612\\4219387555.py:11: DeprecationWarning: Please use `median_abs_deviation` from the `scipy.stats` namespace, the `scipy.stats.stats` namespace is deprecated.\n",
      "  criterio1 = abs((col-col.median())/stats.median_abs_deviation(col))>8\n",
      "C:\\Users\\faman\\AppData\\Local\\Temp\\ipykernel_22612\\4219387555.py:11: DeprecationWarning: Please use `median_abs_deviation` from the `scipy.stats` namespace, the `scipy.stats.stats` namespace is deprecated.\n",
      "  criterio1 = abs((col-col.median())/stats.median_abs_deviation(col))>8\n",
      "C:\\Users\\faman\\AppData\\Local\\Temp\\ipykernel_22612\\4219387555.py:11: DeprecationWarning: Please use `median_abs_deviation` from the `scipy.stats` namespace, the `scipy.stats.stats` namespace is deprecated.\n",
      "  criterio1 = abs((col-col.median())/stats.median_abs_deviation(col))>8\n",
      "C:\\Users\\faman\\AppData\\Local\\Temp\\ipykernel_22612\\4219387555.py:11: DeprecationWarning: Please use `median_abs_deviation` from the `scipy.stats` namespace, the `scipy.stats.stats` namespace is deprecated.\n",
      "  criterio1 = abs((col-col.median())/stats.median_abs_deviation(col))>8\n"
     ]
    },
    {
     "data": {
      "text/html": [
       "<div>\n",
       "<style scoped>\n",
       "    .dataframe tbody tr th:only-of-type {\n",
       "        vertical-align: middle;\n",
       "    }\n",
       "\n",
       "    .dataframe tbody tr th {\n",
       "        vertical-align: top;\n",
       "    }\n",
       "\n",
       "    .dataframe thead th {\n",
       "        text-align: right;\n",
       "    }\n",
       "</style>\n",
       "<table border=\"1\" class=\"dataframe\">\n",
       "  <thead>\n",
       "    <tr style=\"text-align: right;\">\n",
       "      <th></th>\n",
       "      <th>id</th>\n",
       "      <th>amount_tsh</th>\n",
       "      <th>gps_height</th>\n",
       "      <th>longitude</th>\n",
       "      <th>latitude</th>\n",
       "      <th>region_code</th>\n",
       "      <th>district_code</th>\n",
       "      <th>population</th>\n",
       "      <th>construction_year</th>\n",
       "    </tr>\n",
       "  </thead>\n",
       "  <tbody>\n",
       "    <tr>\n",
       "      <th>0</th>\n",
       "      <td>0.0</td>\n",
       "      <td>0.000000</td>\n",
       "      <td>0.0</td>\n",
       "      <td>0.0</td>\n",
       "      <td>0.0</td>\n",
       "      <td>0.000000</td>\n",
       "      <td>0.000000</td>\n",
       "      <td>0.000000</td>\n",
       "      <td>0.0</td>\n",
       "    </tr>\n",
       "    <tr>\n",
       "      <th>1</th>\n",
       "      <td>0.0</td>\n",
       "      <td>17.380471</td>\n",
       "      <td>0.0</td>\n",
       "      <td>0.0</td>\n",
       "      <td>0.0</td>\n",
       "      <td>4.060606</td>\n",
       "      <td>6.356902</td>\n",
       "      <td>3.380471</td>\n",
       "      <td>0.0</td>\n",
       "    </tr>\n",
       "    <tr>\n",
       "      <th>2</th>\n",
       "      <td>0.0</td>\n",
       "      <td>17.380471</td>\n",
       "      <td>0.0</td>\n",
       "      <td>0.0</td>\n",
       "      <td>0.0</td>\n",
       "      <td>4.060606</td>\n",
       "      <td>6.356902</td>\n",
       "      <td>3.380471</td>\n",
       "      <td>0.0</td>\n",
       "    </tr>\n",
       "  </tbody>\n",
       "</table>\n",
       "</div>"
      ],
      "text/plain": [
       "    id  amount_tsh  gps_height  longitude  latitude  region_code  \\\n",
       "0  0.0    0.000000         0.0        0.0       0.0     0.000000   \n",
       "1  0.0   17.380471         0.0        0.0       0.0     4.060606   \n",
       "2  0.0   17.380471         0.0        0.0       0.0     4.060606   \n",
       "\n",
       "   district_code  population  construction_year  \n",
       "0       0.000000    0.000000                0.0  \n",
       "1       6.356902    3.380471                0.0  \n",
       "2       6.356902    3.380471                0.0  "
      ]
     },
     "execution_count": 22,
     "metadata": {},
     "output_type": "execute_result"
    }
   ],
   "source": [
    "#Definimos una función para gestionar outliers, y aplicarles winsorización a la que estimemos pertinente\n",
    "\n",
    "\n",
    "def gestiona_outliers(col,clas = 'check'):\n",
    "    \n",
    "     print(col.name)\n",
    "     # Condición de asimetría y aplicación de criterio 1 según el caso\n",
    "     if abs(col.skew()) < 1:\n",
    "        criterio1 = abs((col-col.mean())/col.std())>3\n",
    "     else:\n",
    "        criterio1 = abs((col-col.median())/stats.median_abs_deviation(col))>8\n",
    "     \n",
    "     # Calcular primer cuartil     \n",
    "     q1 = col.quantile(0.25)  \n",
    "     # Calcular tercer cuartil  \n",
    "     q3 = col.quantile(0.75)\n",
    "     # Calculo de IQR\n",
    "     IQR=q3-q1\n",
    "     # Calcular criterio 2 (general para cualquier asimetría)\n",
    "     criterio2 = (col<(q1 - 3*IQR))|(col>(q3 + 3*IQR))\n",
    "     lower = col[criterio1&criterio2&(col<q1)].count()/col.dropna().count()\n",
    "     upper = col[criterio1&criterio2&(col>q3)].count()/col.dropna().count()\n",
    "     # Salida según el tipo deseado\n",
    "     if clas == 'check':\n",
    "            return(lower*100,upper*100,(lower+upper)*100)\n",
    "     elif clas == 'winsor':\n",
    "            return(winsorize_with_pandas(col,(lower,upper)))\n",
    "     elif clas == 'miss':\n",
    "            print('\\n MissingAntes: ' + str(col.isna().sum()))\n",
    "            col.loc[criterio1&criterio2] = np.nan\n",
    "            print('MissingDespues: ' + str(col.isna().sum()) +'\\n')\n",
    "            return(col)\n",
    "\n",
    "          \n",
    "# Llamada en modo check\n",
    "data_training.select_dtypes(include=np.number).copy().apply(lambda x: gestiona_outliers(x))\n",
    "data_test.select_dtypes(include=np.number).copy().apply(lambda x: gestiona_outliers(x))"
   ]
  },
  {
   "cell_type": "code",
   "execution_count": 23,
   "id": "2c934d1a-35c1-4827-928c-6e29d5798771",
   "metadata": {},
   "outputs": [],
   "source": [
    "def winsorize_with_pandas(s, limits):\n",
    "    \"\"\"\n",
    "    s : pd.Series\n",
    "        Series to winsorize\n",
    "    limits : tuple of float\n",
    "        Tuple of the percentages to cut on each side of the array, \n",
    "        with respect to the number of unmasked data, as floats between 0. and 1\n",
    "    \"\"\"\n",
    "    return s.clip(lower=s.quantile(limits[0], interpolation='lower'), \n",
    "                  upper=s.quantile(1-limits[1], interpolation='higher'))\n"
   ]
  },
  {
   "cell_type": "code",
   "execution_count": 24,
   "id": "6644a768-b38e-4892-88b7-23507b191688",
   "metadata": {},
   "outputs": [
    {
     "name": "stdout",
     "output_type": "stream",
     "text": [
      "id\n",
      "amount_tsh\n",
      "gps_height\n",
      "longitude\n",
      "latitude\n",
      "region_code\n",
      "district_code\n",
      "population\n",
      "construction_year\n",
      "id\n",
      "amount_tsh\n",
      "gps_height\n",
      "longitude\n",
      "latitude\n",
      "region_code\n",
      "district_code\n",
      "population\n",
      "construction_year\n"
     ]
    },
    {
     "name": "stderr",
     "output_type": "stream",
     "text": [
      "C:\\Users\\faman\\AppData\\Local\\Temp\\ipykernel_22612\\4219387555.py:11: DeprecationWarning: Please use `median_abs_deviation` from the `scipy.stats` namespace, the `scipy.stats.stats` namespace is deprecated.\n",
      "  criterio1 = abs((col-col.median())/stats.median_abs_deviation(col))>8\n",
      "C:\\Users\\faman\\AppData\\Local\\Temp\\ipykernel_22612\\4219387555.py:11: DeprecationWarning: Please use `median_abs_deviation` from the `scipy.stats` namespace, the `scipy.stats.stats` namespace is deprecated.\n",
      "  criterio1 = abs((col-col.median())/stats.median_abs_deviation(col))>8\n",
      "C:\\Users\\faman\\AppData\\Local\\Temp\\ipykernel_22612\\4219387555.py:11: DeprecationWarning: Please use `median_abs_deviation` from the `scipy.stats` namespace, the `scipy.stats.stats` namespace is deprecated.\n",
      "  criterio1 = abs((col-col.median())/stats.median_abs_deviation(col))>8\n",
      "C:\\Users\\faman\\AppData\\Local\\Temp\\ipykernel_22612\\4219387555.py:11: DeprecationWarning: Please use `median_abs_deviation` from the `scipy.stats` namespace, the `scipy.stats.stats` namespace is deprecated.\n",
      "  criterio1 = abs((col-col.median())/stats.median_abs_deviation(col))>8\n",
      "C:\\Users\\faman\\AppData\\Local\\Temp\\ipykernel_22612\\4219387555.py:11: DeprecationWarning: Please use `median_abs_deviation` from the `scipy.stats` namespace, the `scipy.stats.stats` namespace is deprecated.\n",
      "  criterio1 = abs((col-col.median())/stats.median_abs_deviation(col))>8\n",
      "C:\\Users\\faman\\AppData\\Local\\Temp\\ipykernel_22612\\4219387555.py:11: DeprecationWarning: Please use `median_abs_deviation` from the `scipy.stats` namespace, the `scipy.stats.stats` namespace is deprecated.\n",
      "  criterio1 = abs((col-col.median())/stats.median_abs_deviation(col))>8\n",
      "C:\\Users\\faman\\AppData\\Local\\Temp\\ipykernel_22612\\4219387555.py:11: DeprecationWarning: Please use `median_abs_deviation` from the `scipy.stats` namespace, the `scipy.stats.stats` namespace is deprecated.\n",
      "  criterio1 = abs((col-col.median())/stats.median_abs_deviation(col))>8\n",
      "C:\\Users\\faman\\AppData\\Local\\Temp\\ipykernel_22612\\4219387555.py:11: DeprecationWarning: Please use `median_abs_deviation` from the `scipy.stats` namespace, the `scipy.stats.stats` namespace is deprecated.\n",
      "  criterio1 = abs((col-col.median())/stats.median_abs_deviation(col))>8\n"
     ]
    },
    {
     "data": {
      "text/plain": [
       "id                   0.0\n",
       "amount_tsh           0.0\n",
       "gps_height           0.0\n",
       "longitude            0.0\n",
       "latitude             0.0\n",
       "region_code          0.0\n",
       "district_code        0.0\n",
       "population           0.0\n",
       "construction_year    0.0\n",
       "dtype: float64"
      ]
     },
     "execution_count": 24,
     "metadata": {},
     "output_type": "execute_result"
    }
   ],
   "source": [
    "# Crear copia para evitar pisar información\n",
    "data_training_copy = data_training.select_dtypes(include=np.number).copy()\n",
    "data_test_copy = data_test.select_dtypes(include=np.number).copy()\n",
    "\n",
    "# Aplicar la gestión de outliers en modelo winsor\n",
    "data_training_winsor = data_training_copy.apply(lambda x: gestiona_outliers(x,clas='winsor'))\n",
    "data_test_winsor = data_test_copy.apply(lambda x: gestiona_outliers(x,clas='winsor'))\n",
    "\n",
    "# Contemos si ha desaparecido algún resgitro o algo \n",
    "data_training_winsor.apply(lambda x: x.isna().sum()/x.count()*100)\n",
    "data_test_winsor.apply(lambda x: x.isna().sum()/x.count()*100)"
   ]
  },
  {
   "cell_type": "code",
   "execution_count": 25,
   "id": "25b2f48a-3a2d-4c02-96d3-5875c8f7eb65",
   "metadata": {},
   "outputs": [
    {
     "name": "stdout",
     "output_type": "stream",
     "text": [
      "     Valor  Frecuencia\n",
      "0     0.00       41639\n",
      "1   100.00       11121\n",
      "2    50.00        2472\n",
      "3    20.00        1463\n",
      "4    10.00         806\n",
      "5    30.00         743\n",
      "6     5.00         376\n",
      "7    25.00         356\n",
      "8     6.00         190\n",
      "9     7.00          69\n",
      "10   40.00          59\n",
      "11   70.00          23\n",
      "12   33.00          20\n",
      "13   60.00          15\n",
      "14   15.00          15\n",
      "15    2.00          13\n",
      "16   35.00           8\n",
      "17    1.00           3\n",
      "18    0.20           3\n",
      "19   53.00           1\n",
      "20   26.00           1\n",
      "21    9.00           1\n",
      "22    0.25           1\n",
      "23   12.00           1\n",
      "24   59.00           1\n"
     ]
    }
   ],
   "source": [
    "#Verificamos ahora a través de la tabla de frecuencia de la variable, como quedó con la winsorización\n",
    "tabla_frecuencias = data_training_winsor['amount_tsh'].value_counts().reset_index()\n",
    "tabla_frecuencias.columns = ['Valor', 'Frecuencia']\n",
    "print(tabla_frecuencias)"
   ]
  },
  {
   "cell_type": "code",
   "execution_count": 26,
   "id": "74a44d3a-2c21-460b-a4b1-2b7115213ef5",
   "metadata": {},
   "outputs": [
    {
     "data": {
      "image/png": "[encoded data removed]",
      "text/plain": [
       "<Figure size 640x480 with 1 Axes>"
      ]
     },
     "metadata": {},
     "output_type": "display_data"
    },
    {
     "data": {
      "image/png": "[encoded data removed]",
      "text/plain": [
       "<Figure size 640x480 with 1 Axes>"
      ]
     },
     "metadata": {},
     "output_type": "display_data"
    }
   ],
   "source": [
    "# histograma\n",
    "plt.hist(data_training_winsor['amount_tsh'], bins=20)\n",
    "plt.xlabel('Variable Numérica')\n",
    "plt.ylabel('Frecuencia')\n",
    "plt.title('Histograma de Variable Numérica')\n",
    "plt.show()\n",
    "\n",
    "\n",
    "# diagrama de caja\n",
    "plt.boxplot(data_training_winsor['amount_tsh'])\n",
    "plt.xlabel('Variable Numérica')\n",
    "plt.title('Diagrama de Caja de Variable Numérica')\n",
    "plt.show()"
   ]
  },
  {
   "cell_type": "code",
   "execution_count": 27,
   "id": "16294a2e-0ffb-4333-809e-2f7b1f6a0a6e",
   "metadata": {},
   "outputs": [
    {
     "data": {
      "text/html": [
       "<div>\n",
       "<style scoped>\n",
       "    .dataframe tbody tr th:only-of-type {\n",
       "        vertical-align: middle;\n",
       "    }\n",
       "\n",
       "    .dataframe tbody tr th {\n",
       "        vertical-align: top;\n",
       "    }\n",
       "\n",
       "    .dataframe thead th {\n",
       "        text-align: right;\n",
       "    }\n",
       "</style>\n",
       "<table border=\"1\" class=\"dataframe\">\n",
       "  <thead>\n",
       "    <tr style=\"text-align: right;\">\n",
       "      <th></th>\n",
       "      <th>id</th>\n",
       "      <th>amount_tsh</th>\n",
       "      <th>gps_height</th>\n",
       "      <th>longitude</th>\n",
       "      <th>latitude</th>\n",
       "      <th>region_code</th>\n",
       "      <th>district_code</th>\n",
       "      <th>population</th>\n",
       "      <th>construction_year</th>\n",
       "    </tr>\n",
       "  </thead>\n",
       "  <tbody>\n",
       "    <tr>\n",
       "      <th>count</th>\n",
       "      <td>59400.000000</td>\n",
       "      <td>59400.000000</td>\n",
       "      <td>59400.000000</td>\n",
       "      <td>59400.000000</td>\n",
       "      <td>5.940000e+04</td>\n",
       "      <td>59400.000000</td>\n",
       "      <td>59400.000000</td>\n",
       "      <td>59400.000000</td>\n",
       "      <td>59400.000000</td>\n",
       "    </tr>\n",
       "    <tr>\n",
       "      <th>mean</th>\n",
       "      <td>37115.131768</td>\n",
       "      <td>22.120149</td>\n",
       "      <td>668.297239</td>\n",
       "      <td>35.149669</td>\n",
       "      <td>-5.706033e+00</td>\n",
       "      <td>15.007323</td>\n",
       "      <td>4.560976</td>\n",
       "      <td>144.451953</td>\n",
       "      <td>1300.652475</td>\n",
       "    </tr>\n",
       "    <tr>\n",
       "      <th>std</th>\n",
       "      <td>21453.128371</td>\n",
       "      <td>38.969677</td>\n",
       "      <td>693.116350</td>\n",
       "      <td>2.567349</td>\n",
       "      <td>2.946019e+00</td>\n",
       "      <td>16.359443</td>\n",
       "      <td>5.215934</td>\n",
       "      <td>219.509982</td>\n",
       "      <td>951.620547</td>\n",
       "    </tr>\n",
       "    <tr>\n",
       "      <th>min</th>\n",
       "      <td>0.000000</td>\n",
       "      <td>0.000000</td>\n",
       "      <td>-90.000000</td>\n",
       "      <td>29.607122</td>\n",
       "      <td>-1.164944e+01</td>\n",
       "      <td>1.000000</td>\n",
       "      <td>0.000000</td>\n",
       "      <td>0.000000</td>\n",
       "      <td>0.000000</td>\n",
       "    </tr>\n",
       "    <tr>\n",
       "      <th>25%</th>\n",
       "      <td>18519.750000</td>\n",
       "      <td>0.000000</td>\n",
       "      <td>0.000000</td>\n",
       "      <td>33.354079</td>\n",
       "      <td>-8.540621e+00</td>\n",
       "      <td>5.000000</td>\n",
       "      <td>2.000000</td>\n",
       "      <td>0.000000</td>\n",
       "      <td>0.000000</td>\n",
       "    </tr>\n",
       "    <tr>\n",
       "      <th>50%</th>\n",
       "      <td>37061.500000</td>\n",
       "      <td>0.000000</td>\n",
       "      <td>369.000000</td>\n",
       "      <td>35.149669</td>\n",
       "      <td>-5.021597e+00</td>\n",
       "      <td>12.000000</td>\n",
       "      <td>3.000000</td>\n",
       "      <td>25.000000</td>\n",
       "      <td>1986.000000</td>\n",
       "    </tr>\n",
       "    <tr>\n",
       "      <th>75%</th>\n",
       "      <td>55656.500000</td>\n",
       "      <td>20.000000</td>\n",
       "      <td>1319.250000</td>\n",
       "      <td>37.178387</td>\n",
       "      <td>-3.326156e+00</td>\n",
       "      <td>17.000000</td>\n",
       "      <td>5.000000</td>\n",
       "      <td>215.000000</td>\n",
       "      <td>2004.000000</td>\n",
       "    </tr>\n",
       "    <tr>\n",
       "      <th>max</th>\n",
       "      <td>74247.000000</td>\n",
       "      <td>100.000000</td>\n",
       "      <td>2770.000000</td>\n",
       "      <td>40.345193</td>\n",
       "      <td>-2.000000e-08</td>\n",
       "      <td>80.000000</td>\n",
       "      <td>23.000000</td>\n",
       "      <td>862.000000</td>\n",
       "      <td>2013.000000</td>\n",
       "    </tr>\n",
       "  </tbody>\n",
       "</table>\n",
       "</div>"
      ],
      "text/plain": [
       "                 id    amount_tsh    gps_height     longitude      latitude  \\\n",
       "count  59400.000000  59400.000000  59400.000000  59400.000000  5.940000e+04   \n",
       "mean   37115.131768     22.120149    668.297239     35.149669 -5.706033e+00   \n",
       "std    21453.128371     38.969677    693.116350      2.567349  2.946019e+00   \n",
       "min        0.000000      0.000000    -90.000000     29.607122 -1.164944e+01   \n",
       "25%    18519.750000      0.000000      0.000000     33.354079 -8.540621e+00   \n",
       "50%    37061.500000      0.000000    369.000000     35.149669 -5.021597e+00   \n",
       "75%    55656.500000     20.000000   1319.250000     37.178387 -3.326156e+00   \n",
       "max    74247.000000    100.000000   2770.000000     40.345193 -2.000000e-08   \n",
       "\n",
       "        region_code  district_code    population  construction_year  \n",
       "count  59400.000000   59400.000000  59400.000000       59400.000000  \n",
       "mean      15.007323       4.560976    144.451953        1300.652475  \n",
       "std       16.359443       5.215934    219.509982         951.620547  \n",
       "min        1.000000       0.000000      0.000000           0.000000  \n",
       "25%        5.000000       2.000000      0.000000           0.000000  \n",
       "50%       12.000000       3.000000     25.000000        1986.000000  \n",
       "75%       17.000000       5.000000    215.000000        2004.000000  \n",
       "max       80.000000      23.000000    862.000000        2013.000000  "
      ]
     },
     "execution_count": 27,
     "metadata": {},
     "output_type": "execute_result"
    }
   ],
   "source": [
    "#Verificamos con un describe que la desviación estándar se redujo considrablemente, así como también sus valores máximos\n",
    "num_cols = data_training_winsor.select_dtypes(exclude=['object','category']).columns\n",
    "data_training_winsor[num_cols].describe()"
   ]
  },
  {
   "cell_type": "code",
   "execution_count": 28,
   "id": "6b917216-fd63-484d-ac9e-10997b2ef9e4",
   "metadata": {},
   "outputs": [],
   "source": [
    "# Ahora uniremos la columna amount_tsh del dataframe winsorizado a nuestro dataframe original\n",
    "\n",
    "data_training = data_training.merge(data_training_winsor['amount_tsh'], left_index=True, right_index=True, suffixes=('', '_winsor'))\n",
    "data_test = data_test.merge(data_test_winsor['amount_tsh'], left_index=True, right_index=True, suffixes=('', '_winsor'))\n",
    "\n"
   ]
  },
  {
   "cell_type": "code",
   "execution_count": 29,
   "id": "afc1d233-be01-4ba8-825d-76492123981d",
   "metadata": {},
   "outputs": [],
   "source": [
    "# Finalmente eliminamos la variable original (no winsorizada)\n",
    "data_training.drop(columns='amount_tsh', inplace=True)\n",
    "data_test.drop(columns='amount_tsh', inplace=True)\n"
   ]
  },
  {
   "cell_type": "markdown",
   "id": "fb8673f3-bfc4-40d9-b646-638b4cbe760c",
   "metadata": {},
   "source": [
    "**2. Population**"
   ]
  },
  {
   "cell_type": "code",
   "execution_count": 30,
   "id": "857d4ae7-e80e-4380-8c64-b2bb6f1dbf5d",
   "metadata": {},
   "outputs": [
    {
     "name": "stdout",
     "output_type": "stream",
     "text": [
      "      Valor  Frecuencia\n",
      "0         0       21381\n",
      "1         1        7025\n",
      "2       200        1940\n",
      "3       150        1892\n",
      "4       250        1681\n",
      "...     ...         ...\n",
      "1044   6330           1\n",
      "1045   5030           1\n",
      "1046    656           1\n",
      "1047    948           1\n",
      "1048    788           1\n",
      "\n",
      "[1049 rows x 2 columns]\n"
     ]
    },
    {
     "data": {
      "image/png": "[encoded data removed]",
      "text/plain": [
       "<Figure size 640x480 with 1 Axes>"
      ]
     },
     "metadata": {},
     "output_type": "display_data"
    },
    {
     "data": {
      "image/png": "[encoded data removed]",
      "text/plain": [
       "<Figure size 640x480 with 1 Axes>"
      ]
     },
     "metadata": {},
     "output_type": "display_data"
    }
   ],
   "source": [
    "#Exploremos esta variable\n",
    "\n",
    "tabla_frecuencias = data_training['population'].value_counts().reset_index()\n",
    "tabla_frecuencias.columns = ['Valor', 'Frecuencia']\n",
    "print(tabla_frecuencias)\n",
    "\n",
    "# histograma\n",
    "plt.hist(data_training['population'], bins=20)\n",
    "plt.xlabel('Variable Numérica')\n",
    "plt.ylabel('Frecuencia')\n",
    "plt.title('Histograma de Variable Numérica')\n",
    "plt.show()\n",
    "\n",
    "\n",
    "# diagrama de caja\n",
    "plt.boxplot(data_training['population'])\n",
    "plt.xlabel('Variable Numérica')\n",
    "plt.title('Diagrama de Caja de Variable Numérica')\n",
    "plt.show()"
   ]
  },
  {
   "cell_type": "raw",
   "id": "185b5710-3761-4fcf-b4a9-c28463d8e311",
   "metadata": {},
   "source": [
    "Como es posible observar, la variable tiene una gran cantidad de valores nulos. En razón de esto, es que se va a realizar una imputación por la media"
   ]
  },
  {
   "cell_type": "code",
   "execution_count": 31,
   "id": "45e3985d-2423-464f-9448-2854234d2af9",
   "metadata": {},
   "outputs": [],
   "source": [
    "\n",
    "# Primero la convertimos a numérica\n",
    "data_training['population'] = pd.to_numeric(data_training['population'])\n",
    "data_test['population'] = pd.to_numeric(data_test['population'])"
   ]
  },
  {
   "cell_type": "code",
   "execution_count": 32,
   "id": "dbc44bdd-74e6-49cd-a632-c30da8a44d6c",
   "metadata": {},
   "outputs": [
    {
     "name": "stderr",
     "output_type": "stream",
     "text": [
      "C:\\Users\\faman\\AppData\\Local\\Temp\\ipykernel_22612\\2774367354.py:3: FutureWarning: Setting an item of incompatible dtype is deprecated and will raise in a future error of pandas. Value '281.08716694284436' has dtype incompatible with int64, please explicitly cast to a compatible dtype first.\n",
      "  data_training.loc[data_training['population'] == 0, 'population'] = media_poblacion_training\n",
      "C:\\Users\\faman\\AppData\\Local\\Temp\\ipykernel_22612\\2774367354.py:6: FutureWarning: Setting an item of incompatible dtype is deprecated and will raise in a future error of pandas. Value '290.9541342981803' has dtype incompatible with int64, please explicitly cast to a compatible dtype first.\n",
      "  data_test.loc[data_test['population'] == 0, 'population'] = media_poblacion_test\n"
     ]
    }
   ],
   "source": [
    "# Luego calculamos la media excluyendo los valores 0\n",
    "media_poblacion_training = data_training.loc[data_training['population'] != 0, 'population'].mean()\n",
    "data_training.loc[data_training['population'] == 0, 'population'] = media_poblacion_training\n",
    "\n",
    "media_poblacion_test = data_test.loc[data_test['population'] != 0, 'population'].mean()\n",
    "data_test.loc[data_test['population'] == 0, 'population'] = media_poblacion_test\n",
    "\n",
    "# Redondear los valores imputados\n",
    "data_training['population'] = data_training['population'].round()\n",
    "data_test['population'] = data_test['population'].round()"
   ]
  },
  {
   "cell_type": "code",
   "execution_count": 33,
   "id": "28aa2abd-a968-4411-829c-5875d226a506",
   "metadata": {},
   "outputs": [
    {
     "name": "stdout",
     "output_type": "stream",
     "text": [
      "       Valor  Frecuencia\n",
      "0      281.0       21385\n",
      "1        1.0        7025\n",
      "2      200.0        1940\n",
      "3      150.0        1892\n",
      "4      250.0        1681\n",
      "...      ...         ...\n",
      "1043  6330.0           1\n",
      "1044  5030.0           1\n",
      "1045   656.0           1\n",
      "1046   948.0           1\n",
      "1047   788.0           1\n",
      "\n",
      "[1048 rows x 2 columns]\n"
     ]
    },
    {
     "data": {
      "image/png": "[encoded data removed]",
      "text/plain": [
       "<Figure size 640x480 with 1 Axes>"
      ]
     },
     "metadata": {},
     "output_type": "display_data"
    },
    {
     "data": {
      "image/png": "[encoded data removed]",
      "text/plain": [
       "<Figure size 640x480 with 1 Axes>"
      ]
     },
     "metadata": {},
     "output_type": "display_data"
    }
   ],
   "source": [
    "tabla_frecuencias = data_training['population'].value_counts().reset_index()\n",
    "tabla_frecuencias.columns = ['Valor', 'Frecuencia']\n",
    "print(tabla_frecuencias)\n",
    "\n",
    "# histograma\n",
    "plt.hist(data_training['population'], bins=20)\n",
    "plt.xlabel('Variable Numérica')\n",
    "plt.ylabel('Frecuencia')\n",
    "plt.title('Histograma de Variable Numérica')\n",
    "plt.show()\n",
    "\n",
    "\n",
    "# diagrama de caja\n",
    "plt.boxplot(data_training['population'])\n",
    "plt.xlabel('Variable Numérica')\n",
    "plt.title('Diagrama de Caja de Variable Numérica')\n",
    "plt.show()"
   ]
  },
  {
   "cell_type": "markdown",
   "id": "470ca62d-1dfb-4039-930e-77c176412b38",
   "metadata": {},
   "source": [
    "**2. construction_year**"
   ]
  },
  {
   "cell_type": "code",
   "execution_count": 34,
   "id": "d298dea2-5504-4342-85af-17dfb582c160",
   "metadata": {},
   "outputs": [
    {
     "name": "stdout",
     "output_type": "stream",
     "text": [
      "    Valor  Frecuencia\n",
      "0       0       20709\n",
      "1    2010        2645\n",
      "2    2008        2613\n",
      "3    2009        2533\n",
      "4    2000        2091\n",
      "5    2007        1587\n",
      "6    2006        1471\n",
      "7    2003        1286\n",
      "8    2011        1256\n",
      "9    2004        1123\n",
      "10   2012        1084\n",
      "11   2002        1075\n",
      "12   1978        1037\n",
      "13   1995        1014\n",
      "14   2005        1011\n",
      "15   1999         979\n",
      "16   1998         966\n",
      "17   1990         954\n",
      "18   1985         945\n",
      "19   1980         811\n",
      "20   1996         811\n",
      "21   1984         779\n",
      "22   1982         744\n",
      "23   1994         738\n",
      "24   1972         708\n",
      "25   1974         676\n",
      "26   1997         644\n",
      "27   1992         640\n",
      "28   1993         608\n",
      "29   2001         540\n",
      "30   1988         521\n",
      "31   1983         488\n",
      "32   1975         437\n",
      "33   1986         434\n",
      "34   1976         414\n",
      "35   1970         411\n",
      "36   1991         324\n",
      "37   1989         316\n",
      "38   1987         302\n",
      "39   1981         238\n",
      "40   1977         202\n",
      "41   1979         192\n",
      "42   1973         184\n",
      "43   2013         176\n",
      "44   1971         145\n",
      "45   1960         102\n",
      "46   1967          88\n",
      "47   1963          85\n",
      "48   1968          77\n",
      "49   1969          59\n",
      "50   1964          40\n",
      "51   1962          30\n",
      "52   1961          21\n",
      "53   1965          19\n",
      "54   1966          17\n"
     ]
    }
   ],
   "source": [
    "tabla_frecuencias = data_training['construction_year'].value_counts().reset_index()\n",
    "tabla_frecuencias.columns = ['Valor', 'Frecuencia']\n",
    "print(tabla_frecuencias)"
   ]
  },
  {
   "cell_type": "raw",
   "id": "9757cd05-4ab7-46a0-8784-1367698e5d95",
   "metadata": {},
   "source": [
    "En esta variable, también observamos una gran cantidad de valores nulos. Por esta razón, se imputarán los valores 0 por la moda, ya que si bien es una variable numérica, se interpreta como categórica al representar años"
   ]
  },
  {
   "cell_type": "code",
   "execution_count": 35,
   "id": "ffdb9cc2-5f3d-4d67-8e0f-4b805c71365d",
   "metadata": {},
   "outputs": [],
   "source": [
    "# Convertimos el tipo de variable\n",
    "data_training['construction_year'] = pd.to_numeric(data_training['construction_year'])\n",
    "data_test['construction_year'] = pd.to_numeric(data_test['construction_year'])"
   ]
  },
  {
   "cell_type": "code",
   "execution_count": 36,
   "id": "4d96697e-6938-462d-96c8-d535d0f8a35a",
   "metadata": {},
   "outputs": [],
   "source": [
    "# Imputamos por la moda\n",
    "moda_construccion_training = data_training.loc[data_training['construction_year'] != 0, 'construction_year'].mode()[0]\n",
    "data_training.loc[data_training['construction_year'] == 0, 'construction_year'] = moda_construccion_training\n",
    "\n",
    "moda_construccion_test = data_test.loc[data_test['construction_year'] != 0, 'construction_year'].mode()[0]\n",
    "data_test.loc[data_test['construction_year'] == 0, 'construction_year'] = moda_construccion_test"
   ]
  },
  {
   "cell_type": "code",
   "execution_count": 37,
   "id": "709e5d16-dfd8-4ed7-a9c1-6eb7ac921616",
   "metadata": {},
   "outputs": [
    {
     "name": "stdout",
     "output_type": "stream",
     "text": [
      "    Valor  Frecuencia\n",
      "0    2010       23354\n",
      "1    2008        2613\n",
      "2    2009        2533\n",
      "3    2000        2091\n",
      "4    2007        1587\n",
      "5    2006        1471\n",
      "6    2003        1286\n",
      "7    2011        1256\n",
      "8    2004        1123\n",
      "9    2012        1084\n",
      "10   2002        1075\n",
      "11   1978        1037\n",
      "12   1995        1014\n",
      "13   2005        1011\n",
      "14   1999         979\n",
      "15   1998         966\n",
      "16   1990         954\n",
      "17   1985         945\n",
      "18   1996         811\n",
      "19   1980         811\n",
      "20   1984         779\n",
      "21   1982         744\n",
      "22   1994         738\n",
      "23   1972         708\n",
      "24   1974         676\n",
      "25   1997         644\n",
      "26   1992         640\n",
      "27   1993         608\n",
      "28   2001         540\n",
      "29   1988         521\n",
      "30   1983         488\n",
      "31   1975         437\n",
      "32   1986         434\n",
      "33   1976         414\n",
      "34   1970         411\n",
      "35   1991         324\n",
      "36   1989         316\n",
      "37   1987         302\n",
      "38   1981         238\n",
      "39   1977         202\n",
      "40   1979         192\n",
      "41   1973         184\n",
      "42   2013         176\n",
      "43   1971         145\n",
      "44   1960         102\n",
      "45   1967          88\n",
      "46   1963          85\n",
      "47   1968          77\n",
      "48   1969          59\n",
      "49   1964          40\n",
      "50   1962          30\n",
      "51   1961          21\n",
      "52   1965          19\n",
      "53   1966          17\n"
     ]
    },
    {
     "data": {
      "image/png": "[encoded data removed]",
      "text/plain": [
       "<Figure size 640x480 with 1 Axes>"
      ]
     },
     "metadata": {},
     "output_type": "display_data"
    },
    {
     "data": {
      "image/png": "[encoded data removed]",
      "text/plain": [
       "<Figure size 640x480 with 1 Axes>"
      ]
     },
     "metadata": {},
     "output_type": "display_data"
    }
   ],
   "source": [
    "tabla_frecuencias = data_training['construction_year'].value_counts().reset_index()\n",
    "tabla_frecuencias.columns = ['Valor', 'Frecuencia']\n",
    "print(tabla_frecuencias)\n",
    "\n",
    "# histograma\n",
    "plt.hist(data_training['construction_year'], bins=20)\n",
    "plt.xlabel('Variable Numérica')\n",
    "plt.ylabel('Frecuencia')\n",
    "plt.title('Histograma de Variable Numérica')\n",
    "plt.show()\n",
    "\n",
    "\n",
    "# diagrama de caja\n",
    "plt.boxplot(data_training['construction_year'])\n",
    "plt.xlabel('Variable Numérica')\n",
    "plt.title('Diagrama de Caja de Variable Numérica')\n",
    "plt.show()"
   ]
  },
  {
   "cell_type": "markdown",
   "id": "c1dea365-e6a7-43bf-bbcb-39d763930804",
   "metadata": {},
   "source": [
    "**3. gps_height**"
   ]
  },
  {
   "cell_type": "code",
   "execution_count": 38,
   "id": "3e6df4a0-be66-4e6f-923e-d2d4344ba00e",
   "metadata": {},
   "outputs": [
    {
     "name": "stdout",
     "output_type": "stream",
     "text": [
      "      gps_height  Frecuencia\n",
      "2316         -90           1\n",
      "2284         -63           2\n",
      "2373         -59           1\n",
      "2314         -57           1\n",
      "2406         -55           1\n",
      "...          ...         ...\n",
      "2362        2623           1\n",
      "2301        2626           2\n",
      "2341        2627           1\n",
      "2358        2628           1\n",
      "2359        2770           1\n",
      "\n",
      "[2428 rows x 2 columns]\n"
     ]
    },
    {
     "data": {
      "image/png": "[encoded data removed]",
      "text/plain": [
       "<Figure size 640x480 with 1 Axes>"
      ]
     },
     "metadata": {},
     "output_type": "display_data"
    },
    {
     "data": {
      "image/png": "[encoded data removed]",
      "text/plain": [
       "<Figure size 640x480 with 1 Axes>"
      ]
     },
     "metadata": {},
     "output_type": "display_data"
    }
   ],
   "source": [
    "# Exploremos esta variable, que a través del describe, nos percatamos que valores raros (el mínimo es -90, y eso es imposible considerano que hace referencia a la altitud)\n",
    "tabla_frecuencias = data_training['gps_height'].value_counts().reset_index()\n",
    "tabla_frecuencias.columns = ['gps_height', 'Frecuencia']\n",
    "frecuencias_sorted = tabla_frecuencias.sort_values(by='gps_height')\n",
    "print(frecuencias_sorted)\n",
    "\n",
    "# histograma\n",
    "plt.hist(data_training['gps_height'], bins=20)\n",
    "plt.xlabel('Variable Numérica')\n",
    "plt.ylabel('Frecuencia')\n",
    "plt.title('Histograma de Variable Numérica')\n",
    "plt.show()\n",
    "\n",
    "\n",
    "# diagrama de caja\n",
    "plt.boxplot(data_training['gps_height'])\n",
    "plt.xlabel('Variable Numérica')\n",
    "plt.title('Diagrama de Caja de Variable Numérica')\n",
    "plt.show()"
   ]
  },
  {
   "cell_type": "raw",
   "id": "e77345f8-5c55-4373-9864-f4e00d825aeb",
   "metadata": {},
   "source": [
    "Como es posible observar, la varible tiene algunos registros negativos y una gran cantidad de ceros. Por esta razón, debido a la naturaleza de estos datos, es que se procederá a aplicar alguna técnica de transformación en esta variable"
   ]
  },
  {
   "cell_type": "code",
   "execution_count": 39,
   "id": "83abeb23-1619-4a26-a113-e1c22015e67d",
   "metadata": {},
   "outputs": [
    {
     "name": "stdout",
     "output_type": "stream",
     "text": [
      "Media de gps_height antes de la transformación: 668.297239057239\n",
      "Media de gps_height_log después de la transformación: 5.97364723467655\n"
     ]
    }
   ],
   "source": [
    "# Aplicaremos una transformación logarítmica que considere un 'offset' (o constante) que permita tomar en consideración tanto los valores negativos como los ceros de la variable\n",
    "# Training\n",
    "\n",
    "\n",
    "# Calcular el offset basado en el valor mínimo de gps_height\n",
    "offset = abs(data_training['gps_height'].min()) + 1\n",
    "\n",
    "# Aplicar transformación logarítmica con offset a la variable\n",
    "data_training['gps_height_log'] = np.log1p(data_training['gps_height'] + offset)\n",
    "\n",
    "# Verificamos la diferencia de resultados\n",
    "print(\"Media de gps_height antes de la transformación:\", data_training['gps_height'].mean())\n",
    "print(\"Media de gps_height_log después de la transformación:\", data_training['gps_height_log'].mean())\n",
    "\n"
   ]
  },
  {
   "cell_type": "code",
   "execution_count": 40,
   "id": "b89d1d19-0694-40b5-b818-9a703067df78",
   "metadata": {},
   "outputs": [
    {
     "name": "stdout",
     "output_type": "stream",
     "text": [
      "Media de gps_height antes de la transformación: 655.1476094276094\n",
      "Media de gps_height_log después de la transformación: 5.740740453257761\n"
     ]
    }
   ],
   "source": [
    "# Test\n",
    "\n",
    "\n",
    "# Calcular el offset basado en el valor mínimo de gps_height\n",
    "offset_test = abs(data_test['gps_height'].min()) + 1\n",
    "\n",
    "# Aplicar transformación logarítmica con offset a la variable\n",
    "data_test['gps_height_log'] = np.log1p(data_test['gps_height'] + offset_test)\n",
    "\n",
    "# Verificamos la diferencia de resultados\n",
    "print(\"Media de gps_height antes de la transformación:\", data_test['gps_height'].mean())\n",
    "print(\"Media de gps_height_log después de la transformación:\", data_test['gps_height_log'].mean())\n"
   ]
  },
  {
   "cell_type": "code",
   "execution_count": 41,
   "id": "38656968-abed-40ec-9c67-9228462a8c87",
   "metadata": {},
   "outputs": [
    {
     "data": {
      "text/html": [
       "<div>\n",
       "<style scoped>\n",
       "    .dataframe tbody tr th:only-of-type {\n",
       "        vertical-align: middle;\n",
       "    }\n",
       "\n",
       "    .dataframe tbody tr th {\n",
       "        vertical-align: top;\n",
       "    }\n",
       "\n",
       "    .dataframe thead th {\n",
       "        text-align: right;\n",
       "    }\n",
       "</style>\n",
       "<table border=\"1\" class=\"dataframe\">\n",
       "  <thead>\n",
       "    <tr style=\"text-align: right;\">\n",
       "      <th></th>\n",
       "      <th>id</th>\n",
       "      <th>gps_height</th>\n",
       "      <th>longitude</th>\n",
       "      <th>latitude</th>\n",
       "      <th>region_code</th>\n",
       "      <th>district_code</th>\n",
       "      <th>population</th>\n",
       "      <th>construction_year</th>\n",
       "      <th>amount_tsh_winsor</th>\n",
       "      <th>gps_height_log</th>\n",
       "    </tr>\n",
       "  </thead>\n",
       "  <tbody>\n",
       "    <tr>\n",
       "      <th>count</th>\n",
       "      <td>59400.000000</td>\n",
       "      <td>59400.000000</td>\n",
       "      <td>59400.000000</td>\n",
       "      <td>5.940000e+04</td>\n",
       "      <td>59400.000000</td>\n",
       "      <td>59400.000000</td>\n",
       "      <td>59400.000000</td>\n",
       "      <td>59400.000000</td>\n",
       "      <td>59400.000000</td>\n",
       "      <td>59400.000000</td>\n",
       "    </tr>\n",
       "    <tr>\n",
       "      <th>mean</th>\n",
       "      <td>37115.131768</td>\n",
       "      <td>668.297239</td>\n",
       "      <td>35.149669</td>\n",
       "      <td>-5.706033e+00</td>\n",
       "      <td>15.297003</td>\n",
       "      <td>5.629747</td>\n",
       "      <td>281.055791</td>\n",
       "      <td>2001.411566</td>\n",
       "      <td>22.120149</td>\n",
       "      <td>5.973647</td>\n",
       "    </tr>\n",
       "    <tr>\n",
       "      <th>std</th>\n",
       "      <td>21453.128371</td>\n",
       "      <td>693.116350</td>\n",
       "      <td>2.567349</td>\n",
       "      <td>2.946019e+00</td>\n",
       "      <td>17.587406</td>\n",
       "      <td>9.633649</td>\n",
       "      <td>451.765815</td>\n",
       "      <td>11.865943</td>\n",
       "      <td>38.969677</td>\n",
       "      <td>1.279484</td>\n",
       "    </tr>\n",
       "    <tr>\n",
       "      <th>min</th>\n",
       "      <td>0.000000</td>\n",
       "      <td>-90.000000</td>\n",
       "      <td>29.607122</td>\n",
       "      <td>-1.164944e+01</td>\n",
       "      <td>1.000000</td>\n",
       "      <td>0.000000</td>\n",
       "      <td>1.000000</td>\n",
       "      <td>1960.000000</td>\n",
       "      <td>0.000000</td>\n",
       "      <td>0.693147</td>\n",
       "    </tr>\n",
       "    <tr>\n",
       "      <th>25%</th>\n",
       "      <td>18519.750000</td>\n",
       "      <td>0.000000</td>\n",
       "      <td>33.354079</td>\n",
       "      <td>-8.540621e+00</td>\n",
       "      <td>5.000000</td>\n",
       "      <td>2.000000</td>\n",
       "      <td>100.000000</td>\n",
       "      <td>1996.000000</td>\n",
       "      <td>0.000000</td>\n",
       "      <td>4.521789</td>\n",
       "    </tr>\n",
       "    <tr>\n",
       "      <th>50%</th>\n",
       "      <td>37061.500000</td>\n",
       "      <td>369.000000</td>\n",
       "      <td>35.149669</td>\n",
       "      <td>-5.021597e+00</td>\n",
       "      <td>12.000000</td>\n",
       "      <td>3.000000</td>\n",
       "      <td>281.000000</td>\n",
       "      <td>2008.000000</td>\n",
       "      <td>0.000000</td>\n",
       "      <td>6.133398</td>\n",
       "    </tr>\n",
       "    <tr>\n",
       "      <th>75%</th>\n",
       "      <td>55656.500000</td>\n",
       "      <td>1319.250000</td>\n",
       "      <td>37.178387</td>\n",
       "      <td>-3.326156e+00</td>\n",
       "      <td>17.000000</td>\n",
       "      <td>5.000000</td>\n",
       "      <td>281.000000</td>\n",
       "      <td>2010.000000</td>\n",
       "      <td>20.000000</td>\n",
       "      <td>7.252231</td>\n",
       "    </tr>\n",
       "    <tr>\n",
       "      <th>max</th>\n",
       "      <td>74247.000000</td>\n",
       "      <td>2770.000000</td>\n",
       "      <td>40.345193</td>\n",
       "      <td>-2.000000e-08</td>\n",
       "      <td>99.000000</td>\n",
       "      <td>80.000000</td>\n",
       "      <td>30500.000000</td>\n",
       "      <td>2013.000000</td>\n",
       "      <td>100.000000</td>\n",
       "      <td>7.959276</td>\n",
       "    </tr>\n",
       "  </tbody>\n",
       "</table>\n",
       "</div>"
      ],
      "text/plain": [
       "                 id    gps_height     longitude      latitude   region_code  \\\n",
       "count  59400.000000  59400.000000  59400.000000  5.940000e+04  59400.000000   \n",
       "mean   37115.131768    668.297239     35.149669 -5.706033e+00     15.297003   \n",
       "std    21453.128371    693.116350      2.567349  2.946019e+00     17.587406   \n",
       "min        0.000000    -90.000000     29.607122 -1.164944e+01      1.000000   \n",
       "25%    18519.750000      0.000000     33.354079 -8.540621e+00      5.000000   \n",
       "50%    37061.500000    369.000000     35.149669 -5.021597e+00     12.000000   \n",
       "75%    55656.500000   1319.250000     37.178387 -3.326156e+00     17.000000   \n",
       "max    74247.000000   2770.000000     40.345193 -2.000000e-08     99.000000   \n",
       "\n",
       "       district_code    population  construction_year  amount_tsh_winsor  \\\n",
       "count   59400.000000  59400.000000       59400.000000       59400.000000   \n",
       "mean        5.629747    281.055791        2001.411566          22.120149   \n",
       "std         9.633649    451.765815          11.865943          38.969677   \n",
       "min         0.000000      1.000000        1960.000000           0.000000   \n",
       "25%         2.000000    100.000000        1996.000000           0.000000   \n",
       "50%         3.000000    281.000000        2008.000000           0.000000   \n",
       "75%         5.000000    281.000000        2010.000000          20.000000   \n",
       "max        80.000000  30500.000000        2013.000000         100.000000   \n",
       "\n",
       "       gps_height_log  \n",
       "count    59400.000000  \n",
       "mean         5.973647  \n",
       "std          1.279484  \n",
       "min          0.693147  \n",
       "25%          4.521789  \n",
       "50%          6.133398  \n",
       "75%          7.252231  \n",
       "max          7.959276  "
      ]
     },
     "execution_count": 41,
     "metadata": {},
     "output_type": "execute_result"
    }
   ],
   "source": [
    "#Verificamos los resultados obtenidos a través de un describe\n",
    "data_training.describe()"
   ]
  },
  {
   "cell_type": "code",
   "execution_count": 42,
   "id": "7abeb32e-e41c-4de8-914f-02e1ed1f9af2",
   "metadata": {},
   "outputs": [],
   "source": [
    "# Finalmente eliminamos la variable original (no transformada)\n",
    "data_training.drop(columns='gps_height', inplace=True)\n",
    "data_test.drop(columns='gps_height', inplace=True)"
   ]
  },
  {
   "cell_type": "markdown",
   "id": "ad712953-3e4f-4f5e-8123-33bcb18aea93",
   "metadata": {},
   "source": [
    "**III. Tratamiento de variables categóricas**"
   ]
  },
  {
   "cell_type": "code",
   "execution_count": 43,
   "id": "e60eced1-b9c5-4264-ba97-e72f661179ed",
   "metadata": {},
   "outputs": [
    {
     "data": {
      "text/html": [
       "<div>\n",
       "<style scoped>\n",
       "    .dataframe tbody tr th:only-of-type {\n",
       "        vertical-align: middle;\n",
       "    }\n",
       "\n",
       "    .dataframe tbody tr th {\n",
       "        vertical-align: top;\n",
       "    }\n",
       "\n",
       "    .dataframe thead th {\n",
       "        text-align: right;\n",
       "    }\n",
       "</style>\n",
       "<table border=\"1\" class=\"dataframe\">\n",
       "  <thead>\n",
       "    <tr style=\"text-align: right;\">\n",
       "      <th></th>\n",
       "      <th>funder</th>\n",
       "      <th>installer</th>\n",
       "      <th>wpt_name</th>\n",
       "      <th>basin</th>\n",
       "      <th>subvillage</th>\n",
       "      <th>region</th>\n",
       "      <th>lga</th>\n",
       "      <th>ward</th>\n",
       "      <th>public_meeting</th>\n",
       "      <th>recorded_by</th>\n",
       "      <th>scheme_management</th>\n",
       "      <th>scheme_name</th>\n",
       "      <th>permit</th>\n",
       "      <th>extraction_type</th>\n",
       "      <th>extraction_type_group</th>\n",
       "      <th>extraction_type_class</th>\n",
       "      <th>management</th>\n",
       "      <th>management_group</th>\n",
       "      <th>payment</th>\n",
       "      <th>payment_type</th>\n",
       "      <th>water_quality</th>\n",
       "      <th>quality_group</th>\n",
       "      <th>quantity</th>\n",
       "      <th>quantity_group</th>\n",
       "      <th>source</th>\n",
       "      <th>source_type</th>\n",
       "      <th>source_class</th>\n",
       "      <th>waterpoint_type</th>\n",
       "      <th>waterpoint_type_group</th>\n",
       "    </tr>\n",
       "  </thead>\n",
       "  <tbody>\n",
       "    <tr>\n",
       "      <th>count</th>\n",
       "      <td>55763</td>\n",
       "      <td>55745</td>\n",
       "      <td>59398</td>\n",
       "      <td>59400</td>\n",
       "      <td>59029</td>\n",
       "      <td>59400</td>\n",
       "      <td>59400</td>\n",
       "      <td>59400</td>\n",
       "      <td>56066</td>\n",
       "      <td>59400</td>\n",
       "      <td>55522</td>\n",
       "      <td>30590</td>\n",
       "      <td>56344</td>\n",
       "      <td>59400</td>\n",
       "      <td>59400</td>\n",
       "      <td>59400</td>\n",
       "      <td>59400</td>\n",
       "      <td>59400</td>\n",
       "      <td>59400</td>\n",
       "      <td>59400</td>\n",
       "      <td>59400</td>\n",
       "      <td>59400</td>\n",
       "      <td>59400</td>\n",
       "      <td>59400</td>\n",
       "      <td>59400</td>\n",
       "      <td>59400</td>\n",
       "      <td>59400</td>\n",
       "      <td>59400</td>\n",
       "      <td>59400</td>\n",
       "    </tr>\n",
       "    <tr>\n",
       "      <th>unique</th>\n",
       "      <td>1896</td>\n",
       "      <td>2145</td>\n",
       "      <td>37399</td>\n",
       "      <td>9</td>\n",
       "      <td>19287</td>\n",
       "      <td>21</td>\n",
       "      <td>125</td>\n",
       "      <td>2092</td>\n",
       "      <td>2</td>\n",
       "      <td>1</td>\n",
       "      <td>11</td>\n",
       "      <td>2695</td>\n",
       "      <td>2</td>\n",
       "      <td>18</td>\n",
       "      <td>13</td>\n",
       "      <td>7</td>\n",
       "      <td>12</td>\n",
       "      <td>5</td>\n",
       "      <td>7</td>\n",
       "      <td>7</td>\n",
       "      <td>8</td>\n",
       "      <td>6</td>\n",
       "      <td>5</td>\n",
       "      <td>5</td>\n",
       "      <td>10</td>\n",
       "      <td>7</td>\n",
       "      <td>3</td>\n",
       "      <td>7</td>\n",
       "      <td>6</td>\n",
       "    </tr>\n",
       "    <tr>\n",
       "      <th>top</th>\n",
       "      <td>Government Of Tanzania</td>\n",
       "      <td>DWE</td>\n",
       "      <td>none</td>\n",
       "      <td>Lake Victoria</td>\n",
       "      <td>Madukani</td>\n",
       "      <td>Iringa</td>\n",
       "      <td>Njombe</td>\n",
       "      <td>Igosi</td>\n",
       "      <td>True</td>\n",
       "      <td>GeoData Consultants Ltd</td>\n",
       "      <td>VWC</td>\n",
       "      <td>K</td>\n",
       "      <td>True</td>\n",
       "      <td>gravity</td>\n",
       "      <td>gravity</td>\n",
       "      <td>gravity</td>\n",
       "      <td>vwc</td>\n",
       "      <td>user-group</td>\n",
       "      <td>never pay</td>\n",
       "      <td>never pay</td>\n",
       "      <td>soft</td>\n",
       "      <td>good</td>\n",
       "      <td>enough</td>\n",
       "      <td>enough</td>\n",
       "      <td>spring</td>\n",
       "      <td>spring</td>\n",
       "      <td>groundwater</td>\n",
       "      <td>communal standpipe</td>\n",
       "      <td>communal standpipe</td>\n",
       "    </tr>\n",
       "    <tr>\n",
       "      <th>freq</th>\n",
       "      <td>9084</td>\n",
       "      <td>17402</td>\n",
       "      <td>3563</td>\n",
       "      <td>10248</td>\n",
       "      <td>508</td>\n",
       "      <td>5294</td>\n",
       "      <td>2503</td>\n",
       "      <td>307</td>\n",
       "      <td>51011</td>\n",
       "      <td>59400</td>\n",
       "      <td>36793</td>\n",
       "      <td>682</td>\n",
       "      <td>38852</td>\n",
       "      <td>26780</td>\n",
       "      <td>26780</td>\n",
       "      <td>26780</td>\n",
       "      <td>40507</td>\n",
       "      <td>52490</td>\n",
       "      <td>25348</td>\n",
       "      <td>25348</td>\n",
       "      <td>50818</td>\n",
       "      <td>50818</td>\n",
       "      <td>33186</td>\n",
       "      <td>33186</td>\n",
       "      <td>17021</td>\n",
       "      <td>17021</td>\n",
       "      <td>45794</td>\n",
       "      <td>28522</td>\n",
       "      <td>34625</td>\n",
       "    </tr>\n",
       "  </tbody>\n",
       "</table>\n",
       "</div>"
      ],
      "text/plain": [
       "                        funder installer wpt_name          basin subvillage  \\\n",
       "count                    55763     55745    59398          59400      59029   \n",
       "unique                    1896      2145    37399              9      19287   \n",
       "top     Government Of Tanzania       DWE     none  Lake Victoria   Madukani   \n",
       "freq                      9084     17402     3563          10248        508   \n",
       "\n",
       "        region     lga   ward public_meeting              recorded_by  \\\n",
       "count    59400   59400  59400          56066                    59400   \n",
       "unique      21     125   2092              2                        1   \n",
       "top     Iringa  Njombe  Igosi           True  GeoData Consultants Ltd   \n",
       "freq      5294    2503    307          51011                    59400   \n",
       "\n",
       "       scheme_management scheme_name permit extraction_type  \\\n",
       "count              55522       30590  56344           59400   \n",
       "unique                11        2695      2              18   \n",
       "top                  VWC           K   True         gravity   \n",
       "freq               36793         682  38852           26780   \n",
       "\n",
       "       extraction_type_group extraction_type_class management  \\\n",
       "count                  59400                 59400      59400   \n",
       "unique                    13                     7         12   \n",
       "top                  gravity               gravity        vwc   \n",
       "freq                   26780                 26780      40507   \n",
       "\n",
       "       management_group    payment payment_type water_quality quality_group  \\\n",
       "count             59400      59400        59400         59400         59400   \n",
       "unique                5          7            7             8             6   \n",
       "top          user-group  never pay    never pay          soft          good   \n",
       "freq              52490      25348        25348         50818         50818   \n",
       "\n",
       "       quantity quantity_group  source source_type source_class  \\\n",
       "count     59400          59400   59400       59400        59400   \n",
       "unique        5              5      10           7            3   \n",
       "top      enough         enough  spring      spring  groundwater   \n",
       "freq      33186          33186   17021       17021        45794   \n",
       "\n",
       "           waterpoint_type waterpoint_type_group  \n",
       "count                59400                 59400  \n",
       "unique                   7                     6  \n",
       "top     communal standpipe    communal standpipe  \n",
       "freq                 28522                 34625  "
      ]
     },
     "execution_count": 43,
     "metadata": {},
     "output_type": "execute_result"
    }
   ],
   "source": [
    "pd.set_option('display.max_columns', None)\n",
    "cat_cols= data_training.select_dtypes(include=['object','category']).columns\n",
    "data_training[cat_cols].describe()"
   ]
  },
  {
   "cell_type": "code",
   "execution_count": 44,
   "id": "095cb19a-e580-4671-9bbf-5aa9c6b41c47",
   "metadata": {},
   "outputs": [
    {
     "data": {
      "text/html": [
       "<div>\n",
       "<style scoped>\n",
       "    .dataframe tbody tr th:only-of-type {\n",
       "        vertical-align: middle;\n",
       "    }\n",
       "\n",
       "    .dataframe tbody tr th {\n",
       "        vertical-align: top;\n",
       "    }\n",
       "\n",
       "    .dataframe thead th {\n",
       "        text-align: right;\n",
       "    }\n",
       "</style>\n",
       "<table border=\"1\" class=\"dataframe\">\n",
       "  <thead>\n",
       "    <tr style=\"text-align: right;\">\n",
       "      <th></th>\n",
       "      <th>funder</th>\n",
       "      <th>installer</th>\n",
       "      <th>wpt_name</th>\n",
       "      <th>basin</th>\n",
       "      <th>subvillage</th>\n",
       "      <th>region</th>\n",
       "      <th>lga</th>\n",
       "      <th>ward</th>\n",
       "      <th>public_meeting</th>\n",
       "      <th>recorded_by</th>\n",
       "      <th>scheme_management</th>\n",
       "      <th>scheme_name</th>\n",
       "      <th>permit</th>\n",
       "      <th>extraction_type</th>\n",
       "      <th>extraction_type_group</th>\n",
       "      <th>extraction_type_class</th>\n",
       "      <th>management</th>\n",
       "      <th>management_group</th>\n",
       "      <th>payment</th>\n",
       "      <th>payment_type</th>\n",
       "      <th>water_quality</th>\n",
       "      <th>quality_group</th>\n",
       "      <th>quantity</th>\n",
       "      <th>quantity_group</th>\n",
       "      <th>source</th>\n",
       "      <th>source_type</th>\n",
       "      <th>source_class</th>\n",
       "      <th>waterpoint_type</th>\n",
       "      <th>waterpoint_type_group</th>\n",
       "    </tr>\n",
       "  </thead>\n",
       "  <tbody>\n",
       "    <tr>\n",
       "      <th>count</th>\n",
       "      <td>13980</td>\n",
       "      <td>13973</td>\n",
       "      <td>14850</td>\n",
       "      <td>14850</td>\n",
       "      <td>14751</td>\n",
       "      <td>14850</td>\n",
       "      <td>14850</td>\n",
       "      <td>14850</td>\n",
       "      <td>14029</td>\n",
       "      <td>14850</td>\n",
       "      <td>13881</td>\n",
       "      <td>7608</td>\n",
       "      <td>14113</td>\n",
       "      <td>14850</td>\n",
       "      <td>14850</td>\n",
       "      <td>14850</td>\n",
       "      <td>14850</td>\n",
       "      <td>14850</td>\n",
       "      <td>14850</td>\n",
       "      <td>14850</td>\n",
       "      <td>14850</td>\n",
       "      <td>14850</td>\n",
       "      <td>14850</td>\n",
       "      <td>14850</td>\n",
       "      <td>14850</td>\n",
       "      <td>14850</td>\n",
       "      <td>14850</td>\n",
       "      <td>14850</td>\n",
       "      <td>14850</td>\n",
       "    </tr>\n",
       "    <tr>\n",
       "      <th>unique</th>\n",
       "      <td>979</td>\n",
       "      <td>1091</td>\n",
       "      <td>10840</td>\n",
       "      <td>9</td>\n",
       "      <td>8443</td>\n",
       "      <td>21</td>\n",
       "      <td>125</td>\n",
       "      <td>1959</td>\n",
       "      <td>2</td>\n",
       "      <td>1</td>\n",
       "      <td>11</td>\n",
       "      <td>1788</td>\n",
       "      <td>2</td>\n",
       "      <td>17</td>\n",
       "      <td>13</td>\n",
       "      <td>7</td>\n",
       "      <td>12</td>\n",
       "      <td>5</td>\n",
       "      <td>7</td>\n",
       "      <td>7</td>\n",
       "      <td>8</td>\n",
       "      <td>6</td>\n",
       "      <td>5</td>\n",
       "      <td>5</td>\n",
       "      <td>10</td>\n",
       "      <td>7</td>\n",
       "      <td>3</td>\n",
       "      <td>7</td>\n",
       "      <td>6</td>\n",
       "    </tr>\n",
       "    <tr>\n",
       "      <th>top</th>\n",
       "      <td>Government Of Tanzania</td>\n",
       "      <td>DWE</td>\n",
       "      <td>none</td>\n",
       "      <td>Lake Victoria</td>\n",
       "      <td>Shuleni</td>\n",
       "      <td>Shinyanga</td>\n",
       "      <td>Njombe</td>\n",
       "      <td>Igosi</td>\n",
       "      <td>True</td>\n",
       "      <td>GeoData Consultants Ltd</td>\n",
       "      <td>VWC</td>\n",
       "      <td>K</td>\n",
       "      <td>True</td>\n",
       "      <td>gravity</td>\n",
       "      <td>gravity</td>\n",
       "      <td>gravity</td>\n",
       "      <td>vwc</td>\n",
       "      <td>user-group</td>\n",
       "      <td>never pay</td>\n",
       "      <td>never pay</td>\n",
       "      <td>soft</td>\n",
       "      <td>good</td>\n",
       "      <td>enough</td>\n",
       "      <td>enough</td>\n",
       "      <td>shallow well</td>\n",
       "      <td>shallow well</td>\n",
       "      <td>groundwater</td>\n",
       "      <td>communal standpipe</td>\n",
       "      <td>communal standpipe</td>\n",
       "    </tr>\n",
       "    <tr>\n",
       "      <th>freq</th>\n",
       "      <td>2215</td>\n",
       "      <td>4349</td>\n",
       "      <td>877</td>\n",
       "      <td>2623</td>\n",
       "      <td>140</td>\n",
       "      <td>1311</td>\n",
       "      <td>625</td>\n",
       "      <td>79</td>\n",
       "      <td>12738</td>\n",
       "      <td>14850</td>\n",
       "      <td>9124</td>\n",
       "      <td>176</td>\n",
       "      <td>9754</td>\n",
       "      <td>6483</td>\n",
       "      <td>6483</td>\n",
       "      <td>6483</td>\n",
       "      <td>10117</td>\n",
       "      <td>13048</td>\n",
       "      <td>6364</td>\n",
       "      <td>6364</td>\n",
       "      <td>12687</td>\n",
       "      <td>12687</td>\n",
       "      <td>8336</td>\n",
       "      <td>8336</td>\n",
       "      <td>4316</td>\n",
       "      <td>4316</td>\n",
       "      <td>11492</td>\n",
       "      <td>7106</td>\n",
       "      <td>8614</td>\n",
       "    </tr>\n",
       "  </tbody>\n",
       "</table>\n",
       "</div>"
      ],
      "text/plain": [
       "                        funder installer wpt_name          basin subvillage  \\\n",
       "count                    13980     13973    14850          14850      14751   \n",
       "unique                     979      1091    10840              9       8443   \n",
       "top     Government Of Tanzania       DWE     none  Lake Victoria    Shuleni   \n",
       "freq                      2215      4349      877           2623        140   \n",
       "\n",
       "           region     lga   ward public_meeting              recorded_by  \\\n",
       "count       14850   14850  14850          14029                    14850   \n",
       "unique         21     125   1959              2                        1   \n",
       "top     Shinyanga  Njombe  Igosi           True  GeoData Consultants Ltd   \n",
       "freq         1311     625     79          12738                    14850   \n",
       "\n",
       "       scheme_management scheme_name permit extraction_type  \\\n",
       "count              13881        7608  14113           14850   \n",
       "unique                11        1788      2              17   \n",
       "top                  VWC           K   True         gravity   \n",
       "freq                9124         176   9754            6483   \n",
       "\n",
       "       extraction_type_group extraction_type_class management  \\\n",
       "count                  14850                 14850      14850   \n",
       "unique                    13                     7         12   \n",
       "top                  gravity               gravity        vwc   \n",
       "freq                    6483                  6483      10117   \n",
       "\n",
       "       management_group    payment payment_type water_quality quality_group  \\\n",
       "count             14850      14850        14850         14850         14850   \n",
       "unique                5          7            7             8             6   \n",
       "top          user-group  never pay    never pay          soft          good   \n",
       "freq              13048       6364         6364         12687         12687   \n",
       "\n",
       "       quantity quantity_group        source   source_type source_class  \\\n",
       "count     14850          14850         14850         14850        14850   \n",
       "unique        5              5            10             7            3   \n",
       "top      enough         enough  shallow well  shallow well  groundwater   \n",
       "freq       8336           8336          4316          4316        11492   \n",
       "\n",
       "           waterpoint_type waterpoint_type_group  \n",
       "count                14850                 14850  \n",
       "unique                   7                     6  \n",
       "top     communal standpipe    communal standpipe  \n",
       "freq                  7106                  8614  "
      ]
     },
     "execution_count": 44,
     "metadata": {},
     "output_type": "execute_result"
    }
   ],
   "source": [
    "pd.set_option('display.max_columns', None)\n",
    "cat_cols= data_test.select_dtypes(include=['object','category']).columns\n",
    "data_test[cat_cols].describe()"
   ]
  },
  {
   "cell_type": "code",
   "execution_count": 45,
   "id": "7f8fde0f-8fa0-4dfc-9cc6-db25d98167d2",
   "metadata": {},
   "outputs": [
    {
     "data": {
      "text/plain": [
       "id                           0\n",
       "funder                    3637\n",
       "installer                 3655\n",
       "longitude                    0\n",
       "latitude                     0\n",
       "wpt_name                     2\n",
       "basin                        0\n",
       "subvillage                 371\n",
       "region                       0\n",
       "region_code                  0\n",
       "district_code                0\n",
       "lga                          0\n",
       "ward                         0\n",
       "population                   0\n",
       "public_meeting            3334\n",
       "recorded_by                  0\n",
       "scheme_management         3878\n",
       "scheme_name              28810\n",
       "permit                    3056\n",
       "construction_year            0\n",
       "extraction_type              0\n",
       "extraction_type_group        0\n",
       "extraction_type_class        0\n",
       "management                   0\n",
       "management_group             0\n",
       "payment                      0\n",
       "payment_type                 0\n",
       "water_quality                0\n",
       "quality_group                0\n",
       "quantity                     0\n",
       "quantity_group               0\n",
       "source                       0\n",
       "source_type                  0\n",
       "source_class                 0\n",
       "waterpoint_type              0\n",
       "waterpoint_type_group        0\n",
       "amount_tsh_winsor            0\n",
       "gps_height_log               0\n",
       "dtype: int64"
      ]
     },
     "execution_count": 45,
     "metadata": {},
     "output_type": "execute_result"
    }
   ],
   "source": [
    "# Exploramos la cantidad de valores nulos que tiene cada una\n",
    "data_training.isnull().sum()"
   ]
  },
  {
   "cell_type": "code",
   "execution_count": 46,
   "id": "ff16d708-d3dd-4f8c-8d34-6f19dc30e18b",
   "metadata": {},
   "outputs": [
    {
     "data": {
      "text/plain": [
       "id                          0\n",
       "funder                    870\n",
       "installer                 877\n",
       "longitude                   0\n",
       "latitude                    0\n",
       "wpt_name                    0\n",
       "basin                       0\n",
       "subvillage                 99\n",
       "region                      0\n",
       "region_code                 0\n",
       "district_code               0\n",
       "lga                         0\n",
       "ward                        0\n",
       "population                  0\n",
       "public_meeting            821\n",
       "recorded_by                 0\n",
       "scheme_management         969\n",
       "scheme_name              7242\n",
       "permit                    737\n",
       "construction_year           0\n",
       "extraction_type             0\n",
       "extraction_type_group       0\n",
       "extraction_type_class       0\n",
       "management                  0\n",
       "management_group            0\n",
       "payment                     0\n",
       "payment_type                0\n",
       "water_quality               0\n",
       "quality_group               0\n",
       "quantity                    0\n",
       "quantity_group              0\n",
       "source                      0\n",
       "source_type                 0\n",
       "source_class                0\n",
       "waterpoint_type             0\n",
       "waterpoint_type_group       0\n",
       "amount_tsh_winsor           0\n",
       "gps_height_log              0\n",
       "dtype: int64"
      ]
     },
     "execution_count": 46,
     "metadata": {},
     "output_type": "execute_result"
    }
   ],
   "source": [
    "data_test.isnull().sum()"
   ]
  },
  {
   "cell_type": "markdown",
   "id": "d5d478ef-9f74-4ed0-bd1c-55426c6ec4ed",
   "metadata": {},
   "source": [
    "**Se convertirán en variables numéricas. Para aquello, se exploraron distintos métodos de conversión. Se aplicó el método de frecuencia, el que a pesar de obtener buenos resultados en training, en test no se obtenian buenas predicciones. Mismo hecho ocurrió con la metodología WoE, que tenía excelentes resultados en el dataset de training original, pero las predicciones no subían den 0,4 en el concurso. Es por esta razón, que de todos los métodos utilizados, el Weight of Evidence presentó las mejores predicciones**"
   ]
  },
  {
   "cell_type": "markdown",
   "id": "76eecfbe-fa4e-4f5e-8a83-1dfa7172dcce",
   "metadata": {},
   "source": [
    "**A continuación, se describe cada variable. Si presenta nulos o no (y en caso de presentar, cómo se trataron estos). En paréntesis, se describe el método de conversión que se utilizó finalmente. Al finalizar la enumeración de todas las variables, se encuentra la fórmula que se aplicó para cada metodología**"
   ]
  },
  {
   "cell_type": "markdown",
   "id": "cfaedd7a-72ba-47d9-b8a6-ed9fb04aa60d",
   "metadata": {},
   "source": [
    "**1. funder (LabelEncoder)**"
   ]
  },
  {
   "cell_type": "code",
   "execution_count": 47,
   "id": "458d339d-2490-4b9d-b5d6-6ecec4e84d1c",
   "metadata": {},
   "outputs": [],
   "source": [
    "# la variable \"funder\" que tiene 3637 nulos y 1896 categorías\n",
    "# Imputación de valores nulos: debido a que puede ser una variable importante, se creará una nueva categoría llamada \"Desconocido\") para los valores nulos\n",
    "data_training['funder'].fillna('Desconocido', inplace=True)\n",
    "data_test['funder'].fillna('Desconocido', inplace=True)"
   ]
  },
  {
   "cell_type": "markdown",
   "id": "0364daed-ac7e-44fc-8e53-19bcaeb42829",
   "metadata": {},
   "source": [
    "**2. Installer (LabelEncoder)**"
   ]
  },
  {
   "cell_type": "code",
   "execution_count": 48,
   "id": "839112a1-5e0b-4ed5-8a38-269a482dbfdc",
   "metadata": {},
   "outputs": [],
   "source": [
    "#Installer\n",
    "# Tratamiento de la variasble \"installer\" que tiene 3655 nulos y 2145 categorías\n",
    "\n",
    "# Crear una nueva categoría para los valores nulos en la variable\n",
    "data_training['installer'].fillna('Desconocido', inplace=True)\n",
    "\n",
    "# Repetimos para el dataset de test\n",
    "data_test['installer'].fillna('Desconocido', inplace=True)"
   ]
  },
  {
   "cell_type": "markdown",
   "id": "da04ae00-6762-431e-9e77-159b10c23695",
   "metadata": {},
   "source": [
    "**3. wpt_name (LabelEncoder)**"
   ]
  },
  {
   "cell_type": "code",
   "execution_count": 49,
   "id": "017bb042-3bff-4929-ad6f-27a1869118ea",
   "metadata": {},
   "outputs": [],
   "source": [
    "#wpt_name\n",
    "# \"wpt_name\" solo tiene nulos en el dataset de training: 2 nulos y 37399 categorías. Puede resultar una variable importante\n",
    "# En función de aquello, se hará una imputación por moda\n",
    "\n",
    "moda_wpt_name = data_training['wpt_name'].mode()[0]  # Calcula la moda de 'wpt_name'\n",
    "data_training['wpt_name'] = data_training['wpt_name'].fillna(moda_wpt_name)\n"
   ]
  },
  {
   "cell_type": "markdown",
   "id": "a813ee92-137f-44a8-8a8b-aff2eabfded0",
   "metadata": {},
   "source": [
    "**4. basin (LabelEncoder)**"
   ]
  },
  {
   "cell_type": "code",
   "execution_count": 50,
   "id": "916a706c-b980-4376-ade6-3b3dec8e0a6b",
   "metadata": {},
   "outputs": [],
   "source": [
    "# No presenta nulos en ningún dataset"
   ]
  },
  {
   "cell_type": "markdown",
   "id": "2e4d4171-cffc-41ce-8942-61ceeb2fcda3",
   "metadata": {},
   "source": [
    "**5. subvillage (LabelEncoder)**"
   ]
  },
  {
   "cell_type": "code",
   "execution_count": 51,
   "id": "30985a3b-c90d-42e5-b9bc-64534d3f363f",
   "metadata": {},
   "outputs": [],
   "source": [
    "# Imputacion de valores nulos por la moda\n",
    "\n",
    "data_training['subvillage'].fillna(data_training['subvillage'].mode()[0], inplace=True)\n",
    "data_test['subvillage'].fillna(data_training['subvillage'].mode()[0], inplace=True)"
   ]
  },
  {
   "cell_type": "markdown",
   "id": "f07e4ad3-d163-41b4-a8ed-da24ba49c506",
   "metadata": {},
   "source": [
    "**6. region (LabelEncoder)**"
   ]
  },
  {
   "cell_type": "code",
   "execution_count": 52,
   "id": "f231d23a-0b9d-4a24-a76a-4fb1f3cab1cf",
   "metadata": {},
   "outputs": [],
   "source": [
    "# No presenta nulos en ningún dataset"
   ]
  },
  {
   "cell_type": "markdown",
   "id": "98f4fe1f-49c0-48ad-ace2-f1c328e649e3",
   "metadata": {},
   "source": [
    "**7. lga (LabelEncoder)**"
   ]
  },
  {
   "cell_type": "code",
   "execution_count": 53,
   "id": "c16665c2-8cdf-49fc-a71d-8086805a0a2b",
   "metadata": {},
   "outputs": [],
   "source": [
    "# No presenta nulos en ningún dataset"
   ]
  },
  {
   "cell_type": "markdown",
   "id": "364e14b5-0732-4e03-90c8-70f75d64d323",
   "metadata": {},
   "source": [
    "**8. ward (LabelEncoder)**"
   ]
  },
  {
   "cell_type": "code",
   "execution_count": 54,
   "id": "5809e4f0-25a5-4efd-9bd7-250052fc2edb",
   "metadata": {},
   "outputs": [],
   "source": [
    "# No presenta nulos en ningún dataset"
   ]
  },
  {
   "cell_type": "markdown",
   "id": "8fdd2760-a84a-4e03-af08-d7addca994d0",
   "metadata": {},
   "source": [
    "**9. public_meeting (conversión manual)**"
   ]
  },
  {
   "cell_type": "code",
   "execution_count": 55,
   "id": "9f11c2d1-faf4-435a-a520-2117081944bf",
   "metadata": {},
   "outputs": [],
   "source": [
    "# Presenta nulos en ambos datasets\n",
    "# Se procederá a imputar por la moda esos valores nulos, en ambos datasets\n",
    "data_training['public_meeting'].fillna(data_training['public_meeting'].mode()[0], inplace=True)\n",
    "data_test['public_meeting'].fillna(data_training['public_meeting'].mode()[0], inplace=True)"
   ]
  },
  {
   "cell_type": "code",
   "execution_count": 56,
   "id": "9c440ea9-c35c-4de0-8179-be997a9aa60d",
   "metadata": {},
   "outputs": [],
   "source": [
    "# Convertir a numérica\n",
    "data_training['public_meeting'] = data_training['public_meeting'].astype(int)\n",
    "data_test['public_meeting'] = data_test['public_meeting'].astype(int)"
   ]
  },
  {
   "cell_type": "markdown",
   "id": "e88d94ee-9111-4872-980a-56169b872474",
   "metadata": {},
   "source": [
    "**10. recorded_by (eliminada)**"
   ]
  },
  {
   "cell_type": "code",
   "execution_count": 57,
   "id": "4b3a1290-f0f1-47c4-8d8d-27133e9269a7",
   "metadata": {},
   "outputs": [],
   "source": [
    "# Se eliminará esta variable, ya que solo tiene una categoría\n",
    "data_training = data_training.drop('recorded_by', axis=1)\n",
    "data_test = data_test.drop('recorded_by', axis=1)"
   ]
  },
  {
   "cell_type": "markdown",
   "id": "818ed446-a9c6-410b-b24f-259645083fc9",
   "metadata": {},
   "source": [
    "**11. scheme_management (LabelEncoder)**"
   ]
  },
  {
   "cell_type": "code",
   "execution_count": 58,
   "id": "20bfdca6-3f35-4626-8b7c-e70bfd0d23b1",
   "metadata": {},
   "outputs": [],
   "source": [
    "# Presenta nulos en ambos datasets\n",
    "# Se procederá a imputar por la moda esos valores nulos, en ambos datasets\n",
    "data_training['scheme_management'].fillna(data_training['scheme_management'].mode()[0], inplace=True)\n",
    "data_test['scheme_management'].fillna(data_training['scheme_management'].mode()[0], inplace=True)"
   ]
  },
  {
   "cell_type": "markdown",
   "id": "8ddbb076-13a7-4ca3-971a-98d500a9589c",
   "metadata": {},
   "source": [
    "**12. scheme_name (LabelEncoder)**"
   ]
  },
  {
   "cell_type": "code",
   "execution_count": 59,
   "id": "e03b9979-5d62-4615-8566-410dd4b4c9a0",
   "metadata": {},
   "outputs": [],
   "source": [
    "# Esta es una variable que tiene una gran cantidad de valores nulos, en ambos datasets. \n",
    "\n",
    "# Vamos a crear una nueva categoría denominada \"Desconocidos\" para agrupar todos los valores nulos en la variable\n",
    "\n",
    "#Training\n",
    "data_training['scheme_name'] = data_training['scheme_name'].fillna('Desconocido')\n",
    "\n",
    "#Test\n",
    "data_test['scheme_name'] = data_test['scheme_name'].fillna('Desconocido')"
   ]
  },
  {
   "cell_type": "markdown",
   "id": "dc2d4362-5bc7-42c0-8dd2-4da009981ef5",
   "metadata": {},
   "source": [
    "**13. permit (LabelEncoder)**"
   ]
  },
  {
   "cell_type": "code",
   "execution_count": 60,
   "id": "f3e90bc8-61f5-4fa6-a43d-097f7bb68049",
   "metadata": {},
   "outputs": [],
   "source": [
    "# Vamos a crear una nueva categoría denominada \"Desconocidos\" para agrupar todos los valores nulos en la variable\n",
    "\n",
    "#Training\n",
    "data_training['permit'] = data_training['permit'].fillna('Desconocido')\n",
    "data_test['permit'] = data_test['permit'].fillna('Desconocido')"
   ]
  },
  {
   "cell_type": "markdown",
   "id": "c4959472-c90c-4b52-9b01-b34c5bedd58f",
   "metadata": {},
   "source": [
    "**14. extraction_type (LabelEncoder)**"
   ]
  },
  {
   "cell_type": "code",
   "execution_count": 61,
   "id": "fb675555-c315-477c-a80a-6cf0c5b54c16",
   "metadata": {},
   "outputs": [],
   "source": [
    "# No presenta nulos en ningún dataset"
   ]
  },
  {
   "cell_type": "markdown",
   "id": "43f64b8f-e8d6-4da3-88d1-a1319ea4ef61",
   "metadata": {},
   "source": [
    "**15. extraction_type_group (LabelEncoder)**"
   ]
  },
  {
   "cell_type": "code",
   "execution_count": 62,
   "id": "11eff11f-e13e-47a2-9eca-0f5f46a2dc08",
   "metadata": {},
   "outputs": [],
   "source": [
    "# No presenta nulos en ningún dataset"
   ]
  },
  {
   "cell_type": "markdown",
   "id": "e34af621-8094-4ecd-a274-075aa71017a1",
   "metadata": {},
   "source": [
    "**16. extraction_type_class (LabelEncoder)**"
   ]
  },
  {
   "cell_type": "code",
   "execution_count": 63,
   "id": "e1b73cfd-9175-4cff-b4e4-6b7dd3444dcd",
   "metadata": {},
   "outputs": [],
   "source": [
    "# No presenta nulos en ningún dataset"
   ]
  },
  {
   "cell_type": "markdown",
   "id": "13550df2-f787-4a3e-b048-d9e07ad8e2d3",
   "metadata": {},
   "source": [
    "**17. management (LabelEncoder)**"
   ]
  },
  {
   "cell_type": "code",
   "execution_count": 64,
   "id": "25411adc-13c7-4342-a2e9-bb77d879a3f3",
   "metadata": {},
   "outputs": [],
   "source": [
    "# No presenta nulos en ningún dataset"
   ]
  },
  {
   "cell_type": "markdown",
   "id": "00b876f7-c150-4ff9-b309-e90676327449",
   "metadata": {},
   "source": [
    "**18. management_group (LabelEncoder)**"
   ]
  },
  {
   "cell_type": "code",
   "execution_count": 65,
   "id": "2379c3e4-5415-41da-a2df-b336aaf00a08",
   "metadata": {},
   "outputs": [],
   "source": [
    "# No presenta nulos en ningún dataset"
   ]
  },
  {
   "cell_type": "markdown",
   "id": "378f88ac-2e09-43a8-aaec-d53f04e49c75",
   "metadata": {},
   "source": [
    "**19. payment (LabelEncoder)**"
   ]
  },
  {
   "cell_type": "code",
   "execution_count": 66,
   "id": "d6467741-5292-498a-b243-e36351f6ee3d",
   "metadata": {},
   "outputs": [],
   "source": [
    "# No presenta nulos en ningún dataset"
   ]
  },
  {
   "cell_type": "markdown",
   "id": "54856f9e-df9a-48a2-8502-a8392ab28e5b",
   "metadata": {},
   "source": [
    "**20. payment_type (LabelEncoder)**"
   ]
  },
  {
   "cell_type": "code",
   "execution_count": 67,
   "id": "4e1facad-a668-4365-acdc-f3d474d8eaad",
   "metadata": {},
   "outputs": [],
   "source": [
    "# No presenta nulos en ningún dataset"
   ]
  },
  {
   "cell_type": "markdown",
   "id": "c174ddba-8404-4097-8025-b97302dc980f",
   "metadata": {},
   "source": [
    "**21. water_quality (conversión manual)**"
   ]
  },
  {
   "cell_type": "code",
   "execution_count": 68,
   "id": "a3691d7f-4b2a-4880-b1ad-281ccacdc502",
   "metadata": {},
   "outputs": [
    {
     "data": {
      "text/plain": [
       "{'soft': 50818,\n",
       " 'salty': 4856,\n",
       " 'unknown': 1876,\n",
       " 'milky': 804,\n",
       " 'coloured': 490,\n",
       " 'salty abandoned': 339,\n",
       " 'fluoride': 200,\n",
       " 'fluoride abandoned': 17}"
      ]
     },
     "execution_count": 68,
     "metadata": {},
     "output_type": "execute_result"
    }
   ],
   "source": [
    "# Dado que se trata de una variable categórica ordinal (ya que parecen estar ordenadas en términos de calidad del agua)\n",
    "# se va a proceder a convertir la en numérica, asignando un número a cada categoría\n",
    "\n",
    "# Exploramos la categorías\n",
    "counts = data_training[\"water_quality\"].value_counts().to_dict()\n",
    "\n",
    "counts"
   ]
  },
  {
   "cell_type": "code",
   "execution_count": 69,
   "id": "3ab316a5-545f-4547-b7b7-94392963e087",
   "metadata": {},
   "outputs": [],
   "source": [
    "# Mapeo de las categorías a valores numéricos\n",
    "mapeo_water_quality = {\n",
    "    'unknown': 0,  \n",
    "    'fluoride abandoned': 1,\n",
    "    'salty abandoned': 2,\n",
    "    'fluoride': 3,\n",
    "    'coloured': 4,\n",
    "    'milky': 5,\n",
    "    'salty': 6,\n",
    "    'soft': 7\n",
    "}\n",
    "\n",
    "# Aplicar el mapeo a la columna 'water_quality'\n",
    "# Training\n",
    "data_training['water_quality_numerica'] = data_training['water_quality'].map(mapeo_water_quality)\n",
    "\n",
    "#Test\n",
    "data_test['water_quality_numerica'] = data_test['water_quality'].map(mapeo_water_quality)"
   ]
  },
  {
   "cell_type": "code",
   "execution_count": 70,
   "id": "3809ea8d-76c0-42f8-93ed-00602bbf48f6",
   "metadata": {},
   "outputs": [],
   "source": [
    "#Eliminamos las columnas categóricas para mantener solo las numéricas\n",
    "\n",
    "#Training\n",
    "data_training = data_training.drop('water_quality', axis=1)\n",
    "\n",
    "#Test\n",
    "data_test = data_test.drop('water_quality', axis=1)"
   ]
  },
  {
   "cell_type": "markdown",
   "id": "d74d2199-8b12-497c-aee0-7de151f51c54",
   "metadata": {},
   "source": [
    "**22. quality_group (conversión manual)**"
   ]
  },
  {
   "cell_type": "code",
   "execution_count": 71,
   "id": "759053cd-f006-482f-a0b7-b0b14986c0b8",
   "metadata": {},
   "outputs": [
    {
     "data": {
      "text/plain": [
       "{'good': 50818,\n",
       " 'salty': 5195,\n",
       " 'unknown': 1876,\n",
       " 'milky': 804,\n",
       " 'colored': 490,\n",
       " 'fluoride': 217}"
      ]
     },
     "execution_count": 71,
     "metadata": {},
     "output_type": "execute_result"
    }
   ],
   "source": [
    "# Dado que se trata de una variable categórica ordinal (ya que parecen estar ordenadas en términos de calidad del agua)\n",
    "# se va a proceder a convertir la en numérica, asignando un número a cada categoría\n",
    "\n",
    "# Exploramos la categorías\n",
    "counts = data_training[\"quality_group\"].value_counts().to_dict()\n",
    "\n",
    "counts"
   ]
  },
  {
   "cell_type": "code",
   "execution_count": 72,
   "id": "1bc961af-bbfb-473e-b175-86fbf99ff113",
   "metadata": {},
   "outputs": [],
   "source": [
    "# Mapeo de las categorías a valores numéricos\n",
    "mapeo_quality_group = {\n",
    "    'unknown': 0,  \n",
    "    'fluoride': 1,\n",
    "    'colored': 2,\n",
    "    'milky': 3,\n",
    "    'salty': 4,\n",
    "    'good': 5\n",
    "}\n",
    "\n",
    "# Aplicar el mapeo a la columna 'quality_group'\n",
    "# Training\n",
    "data_training['quality_group_numerica'] = data_training['quality_group'].map(mapeo_quality_group)\n",
    "\n",
    "# Test\n",
    "data_test['quality_group_numerica'] = data_test['quality_group'].map(mapeo_quality_group)"
   ]
  },
  {
   "cell_type": "code",
   "execution_count": 73,
   "id": "eeb47b5a-b32a-4b5c-97c1-ca5c5504e7aa",
   "metadata": {},
   "outputs": [],
   "source": [
    "#Eliminamos las columnas categóricas para mantener solo las numéricas\n",
    "\n",
    "#Training\n",
    "data_training = data_training.drop('quality_group', axis=1)\n",
    "\n",
    "#Test\n",
    "data_test = data_test.drop('quality_group', axis=1)"
   ]
  },
  {
   "cell_type": "markdown",
   "id": "26d035d8-4615-4ac1-b1f9-50d990bb48bf",
   "metadata": {},
   "source": [
    "**23. quantity (LabelEncoder)**"
   ]
  },
  {
   "cell_type": "code",
   "execution_count": 74,
   "id": "bfcdffa0-393a-4f50-9eba-2d0839bc4f83",
   "metadata": {},
   "outputs": [],
   "source": [
    "# No presenta nulos en ningún dataset"
   ]
  },
  {
   "cell_type": "markdown",
   "id": "5beccdc9-09d4-4053-a872-bd5e386434cb",
   "metadata": {},
   "source": [
    "**24. quantity_group  (LabelEncoder)**"
   ]
  },
  {
   "cell_type": "code",
   "execution_count": 75,
   "id": "51f4000c-1ed2-404e-944b-6a8de16a86b2",
   "metadata": {},
   "outputs": [],
   "source": [
    "# No presenta nulos en ningún dataset"
   ]
  },
  {
   "cell_type": "markdown",
   "id": "e5a16e98-f5bb-4cff-b954-0c7a9564a1e6",
   "metadata": {},
   "source": [
    "**25. source  (LabelEncoder)**"
   ]
  },
  {
   "cell_type": "code",
   "execution_count": 76,
   "id": "6768e999-093c-4a6b-8cd4-5b476b533924",
   "metadata": {},
   "outputs": [],
   "source": [
    "# No presenta nulos en ningún dataset"
   ]
  },
  {
   "cell_type": "markdown",
   "id": "ecd09d70-7bc9-4826-979c-918ca326f2b0",
   "metadata": {},
   "source": [
    "**26. source_type (LabelEncoder)**"
   ]
  },
  {
   "cell_type": "code",
   "execution_count": 77,
   "id": "e6f4c344-7a74-470a-b8dc-2e1ae85c1332",
   "metadata": {},
   "outputs": [],
   "source": [
    "# No presenta nulos en ningún dataset"
   ]
  },
  {
   "cell_type": "markdown",
   "id": "c738aecb-5426-4660-a067-3b28b1ac7935",
   "metadata": {},
   "source": [
    "**27. source_class (conversión manual)**"
   ]
  },
  {
   "cell_type": "code",
   "execution_count": 78,
   "id": "0bb4d4a1-e0ce-49bf-8016-3d12d778113f",
   "metadata": {},
   "outputs": [],
   "source": [
    "# Dado la poca cantidad de categorías que tiene, y también atendiendo a la naturaleza de la variable, es que esta variable se convertirá en dummy"
   ]
  },
  {
   "cell_type": "code",
   "execution_count": 79,
   "id": "1ca98efe-e452-46cf-bd73-4b3422d22eb0",
   "metadata": {},
   "outputs": [],
   "source": [
    "# Aplicar one-hot encoding a la columna 'source_class'\n",
    "#Training\n",
    "source_class_dummies_training = pd.get_dummies(data_training['source_class'], prefix='source_class')\n",
    "#Test\n",
    "source_class_dummies_test = pd.get_dummies(data_test['source_class'], prefix='source_class')\n",
    "\n",
    "# Unir las columnas dummy al DataFrame original\n",
    "#Training\n",
    "data_training = pd.concat([data_training, source_class_dummies_training], axis=1)\n",
    "#Test\n",
    "data_test = pd.concat([data_test, source_class_dummies_test], axis=1)\n",
    "\n",
    "# Eliminar la columna original 'source_class'\n",
    "#Training\n",
    "data_training = data_training.drop('source_class', axis=1)\n",
    "#Test\n",
    "data_test = data_test.drop('source_class', axis=1)"
   ]
  },
  {
   "cell_type": "code",
   "execution_count": 80,
   "id": "8e01a42f-8491-4bde-853b-3c729e100935",
   "metadata": {},
   "outputs": [],
   "source": [
    "#Convertir las columnas nuevas (dummies) a numérica. De esta manera, True adquiere valor 1 y False valores 0\n",
    "\n",
    "# Training\n",
    "# Convertir las variables dummy a numéricas (True/False a 1/0)\n",
    "data_training['source_class_groundwater_numeric'] = data_training['source_class_groundwater'].astype(int)\n",
    "data_training['source_class_surface_numeric'] = data_training['source_class_surface'].astype(int)\n",
    "data_training['source_class_unknown_numeric'] = data_training['source_class_unknown'].astype(int)\n",
    "\n",
    "# Sumar las variables dummy convertidas a numéricas para cada observación\n",
    "data_training['source_class_numeric'] = data_training['source_class_groundwater_numeric'] + data_training['source_class_surface_numeric'] + data_training['source_class_unknown_numeric']\n",
    "\n",
    "# Test\n",
    "# Convertir las variables dummy a numéricas (True/False a 1/0)\n",
    "data_test['source_class_groundwater_numeric'] = data_test['source_class_groundwater'].astype(int)\n",
    "data_test['source_class_surface_numeric'] = data_test['source_class_surface'].astype(int)\n",
    "data_test['source_class_unknown_numeric'] = data_test['source_class_unknown'].astype(int)\n",
    "\n",
    "# Sumar las variables dummy convertidas a numéricas para cada observación\n",
    "data_test['source_class_numeric'] = data_test['source_class_groundwater_numeric'] + data_test['source_class_surface_numeric'] + data_test['source_class_unknown_numeric']"
   ]
  },
  {
   "cell_type": "code",
   "execution_count": 81,
   "id": "43faa375-d86d-4bca-a459-4306474f2754",
   "metadata": {},
   "outputs": [],
   "source": [
    "# Eliminamos columnas booleanas para mantener solo las numéricas\n",
    "\n",
    "\n",
    "# Crear una lista con los nombres de las columnas booleanas\n",
    "columnas_booleanas_training = ['source_class_groundwater', 'source_class_surface', 'source_class_unknown', 'source_class_numeric']\n",
    "columnas_booleanas_test = ['source_class_groundwater', 'source_class_surface', 'source_class_unknown', 'source_class_numeric']\n",
    "\n",
    "# Eliminar las columnas booleanas del DataFrame\n",
    "data_training = data_training.drop(columnas_booleanas_training, axis=1)\n",
    "data_test = data_test.drop(columnas_booleanas_test, axis=1)"
   ]
  },
  {
   "cell_type": "markdown",
   "id": "c6b86e1a-511d-4867-856b-3e8ea7db9f19",
   "metadata": {},
   "source": [
    "**28. waterpoint_type (LabelEncoder)**"
   ]
  },
  {
   "cell_type": "code",
   "execution_count": 82,
   "id": "2d592370-1a5e-404f-8da5-6aa718752777",
   "metadata": {},
   "outputs": [],
   "source": [
    "# No presenta nulos en ningún dataset"
   ]
  },
  {
   "cell_type": "markdown",
   "id": "730fced7-9d5e-4297-9025-bd0a0beef487",
   "metadata": {},
   "source": [
    "**Ahora verificamos que no existan nulos en ninguna variable categórica**"
   ]
  },
  {
   "cell_type": "code",
   "execution_count": 83,
   "id": "ca6d5ce7-8f65-45bd-87af-86765c15dfd6",
   "metadata": {},
   "outputs": [
    {
     "data": {
      "text/plain": [
       "id                                  0\n",
       "funder                              0\n",
       "installer                           0\n",
       "longitude                           0\n",
       "latitude                            0\n",
       "wpt_name                            0\n",
       "basin                               0\n",
       "subvillage                          0\n",
       "region                              0\n",
       "region_code                         0\n",
       "district_code                       0\n",
       "lga                                 0\n",
       "ward                                0\n",
       "population                          0\n",
       "public_meeting                      0\n",
       "scheme_management                   0\n",
       "scheme_name                         0\n",
       "permit                              0\n",
       "construction_year                   0\n",
       "extraction_type                     0\n",
       "extraction_type_group               0\n",
       "extraction_type_class               0\n",
       "management                          0\n",
       "management_group                    0\n",
       "payment                             0\n",
       "payment_type                        0\n",
       "quantity                            0\n",
       "quantity_group                      0\n",
       "source                              0\n",
       "source_type                         0\n",
       "waterpoint_type                     0\n",
       "waterpoint_type_group               0\n",
       "amount_tsh_winsor                   0\n",
       "gps_height_log                      0\n",
       "water_quality_numerica              0\n",
       "quality_group_numerica              0\n",
       "source_class_groundwater_numeric    0\n",
       "source_class_surface_numeric        0\n",
       "source_class_unknown_numeric        0\n",
       "dtype: int64"
      ]
     },
     "execution_count": 83,
     "metadata": {},
     "output_type": "execute_result"
    }
   ],
   "source": [
    "data_training.isnull().sum()"
   ]
  },
  {
   "cell_type": "code",
   "execution_count": 84,
   "id": "a45e59cb-636c-446d-961a-b5e7d8681c2b",
   "metadata": {},
   "outputs": [],
   "source": [
    "# Hacemos join del dataframe con las labels (respuestas)\n",
    "data2 = pd.merge(data_training, data_labels,  on = \"id\", how = \"left\")"
   ]
  },
  {
   "cell_type": "markdown",
   "id": "1361129c-0406-409d-8224-f286b94b5c4c",
   "metadata": {},
   "source": [
    "**Finalmente, se listan abajo las variables que aún no han sido convertidas a numéricas**"
   ]
  },
  {
   "cell_type": "code",
   "execution_count": 85,
   "id": "7ee730da-a7f2-418a-a0a1-4bcf3b225a3a",
   "metadata": {},
   "outputs": [],
   "source": [
    "categorical_features = ['funder', 'installer', 'wpt_name', 'basin', 'subvillage', 'region', \n",
    "                        'lga', 'ward', 'scheme_management', 'scheme_name', 'permit', \n",
    "                        'extraction_type', 'extraction_type_group', 'extraction_type_class', \n",
    "                        'management', 'management_group', 'payment', 'payment_type', \n",
    "                        'quantity', 'quantity_group', 'source', 'source_type', \n",
    "                        'waterpoint_type', 'waterpoint_type_group']"
   ]
  },
  {
   "cell_type": "markdown",
   "id": "9fee552d-e7e7-43df-b7f7-a301fa857925",
   "metadata": {},
   "source": [
    "**A. Metodología de conversión a través de la frecuencia (descartada finalmente, ya que no hacia buenas predicciones sobre el modelo de test original)**"
   ]
  },
  {
   "cell_type": "raw",
   "id": "a7bdf260-da1d-415e-812a-c8f4e1fef7b1",
   "metadata": {},
   "source": [
    "#Dataset de training \n",
    "for var in categorical_vars:\n",
    "    # Calcular la frecuencia de cada categoría\n",
    "    freq_counts = data2[var].value_counts()\n",
    "    # Mapear las categorías a sus frecuencias\n",
    "    data2[var] = data2[var].map(freq_counts)\n",
    "\n",
    "\n",
    "#Dataset de test\n",
    "for var in categorical_vars:\n",
    "    # Calcular la frecuencia de cada categoría\n",
    "    freq_counts = data_test[var].value_counts()\n",
    "    # Mapear las categorías a sus frecuencias\n",
    "    data_test[var] = data_test[var].map(freq_counts)"
   ]
  },
  {
   "cell_type": "markdown",
   "id": "b94bb99f-9004-412d-8962-fbff1d3ac5dc",
   "metadata": {},
   "source": [
    "**B. Metodología de conversión a través de WoE (weight of evidence): descartada finalmente, ya que no hacia buenas predicciones sobre el modelo de test original**"
   ]
  },
  {
   "cell_type": "raw",
   "id": "58e3a2ed-a079-47d4-affd-37daf59b96d1",
   "metadata": {},
   "source": [
    "# Definimos una función para aplicar WoE a las variables antes indicadas \n",
    "\n",
    "# Dataset de training\n",
    "import pandas as pd\n",
    "import numpy as np\n",
    "\n",
    "def calculate_woe_and_replace(data2, categorical_features, target_feature):\n",
    "    woe_dict = {}\n",
    "    \n",
    "    # Iterar sobre cada variable categórica\n",
    "    for feature in categorical_features:\n",
    "        # Calcular WoE\n",
    "        event_proportions = data2.groupby(feature)[target_feature].value_counts(normalize=True).unstack()\n",
    "        total_events = data2[target_feature].value_counts()\n",
    "        woe_values = np.log(event_proportions.div(total_events, axis=1))\n",
    "        woe_dict[feature] = woe_values\n",
    "        \n",
    "        # Reemplazar los valores en el DataFrame\n",
    "        data2[feature + '_woe'] = data2[feature].map(woe_values.iloc[:, 0].to_dict())\n",
    "    \n",
    "    return data2, woe_dict\n",
    "\n",
    "\n",
    "# Definir  la variable objetivo\n",
    "target_feature = 'status_group'\n",
    "\n",
    "# Calcular WoE y reemplazar en el DataFrame\n",
    "data2, woe_dict = calculate_woe_and_replace(data2, categorical_features, target_feature)\n"
   ]
  },
  {
   "cell_type": "raw",
   "id": "cae469d4-6aeb-4bc8-8870-cc539bcdabf3",
   "metadata": {},
   "source": [
    "\n",
    "# Eliminar las columnas categóricas\n",
    "data2 = data2.drop(columns=categorical_columns)\n"
   ]
  },
  {
   "cell_type": "raw",
   "id": "a12d40d5-918f-4fbd-9d2c-cfa5ff717900",
   "metadata": {},
   "source": [
    "#Dataset de test \n",
    "#Aplicar los mismos valores de WoE del conjunto de entrenamiento, ya que no se puede calcular WoE en el de test directamente, ya que no tenemos los labels\n",
    "\n",
    "import pandas as pd\n",
    "\n",
    "def apply_woe_transformation(data_test, woe_dict):\n",
    "    for feature, woe_values in woe_dict.items():\n",
    "        # Reemplazar en los datos de prueba utilizando los valores de WoE del conjunto de entrenamiento\n",
    "        data_test[feature + '_woe'] = data_test[feature].map(woe_values.iloc[:, 0].to_dict())\n",
    "    return data_test\n",
    "\n",
    "\n",
    "# Aplicar los valores de WoE del conjunto de entrenamiento al conjunto de prueba\n",
    "data_test = apply_woe_transformation(data_test, woe_dict)"
   ]
  },
  {
   "cell_type": "raw",
   "id": "d57bab92-b41d-4d80-bc0f-80ca6f1bfdb5",
   "metadata": {},
   "source": [
    "\n",
    "# Eliminar las columnas categóricas\n",
    "data_test = data_test.drop(columns=categorical_columns)"
   ]
  },
  {
   "cell_type": "markdown",
   "id": "0d7b127f-f323-41af-9359-864282ae7991",
   "metadata": {},
   "source": [
    "**C. Metodología de conversión a través de LabelEncoder: La que se utilizó finalmente, ya que hacía mucho mejores predicciones sobre el modelo de test original**"
   ]
  },
  {
   "cell_type": "code",
   "execution_count": 86,
   "id": "45275b9a-324a-43a6-95b2-15ee0207d47f",
   "metadata": {},
   "outputs": [],
   "source": [
    "from sklearn.preprocessing import LabelEncoder\n",
    "\n",
    "#Dataset de training\n",
    "\n",
    "# Convertir las columnas categóricas a tipo 'object'\n",
    "data2[categorical_features] = data2[categorical_features].astype(str)\n",
    "\n",
    "# Aplicar Label Encoding a las variables categóricas\n",
    "label_encoder = LabelEncoder()\n",
    "for feature in categorical_features:\n",
    "    data2[feature] = label_encoder.fit_transform(data2[feature])\n",
    "\n",
    "\n",
    "\n"
   ]
  },
  {
   "cell_type": "code",
   "execution_count": 87,
   "id": "2661fa43-3bcb-49a4-bee4-d1c779ce1a8f",
   "metadata": {},
   "outputs": [],
   "source": [
    "from sklearn.preprocessing import LabelEncoder\n",
    "\n",
    "#Dataset de test\n",
    "\n",
    "\n",
    "# Convertir las columnas categóricas a tipo 'object'\n",
    "data_test[categorical_features] = data_test[categorical_features].astype(str)\n",
    "\n",
    "# Aplicar Label Encoding a las variables categóricas\n",
    "label_encoder = LabelEncoder()\n",
    "for feature in categorical_features:\n",
    "    data_test[feature] = label_encoder.fit_transform(data_test[feature])\n",
    "\n"
   ]
  },
  {
   "cell_type": "markdown",
   "id": "ab60386f-f888-444e-904b-4ddd6c9adbf0",
   "metadata": {},
   "source": [
    "**CON ESTO, SE TERMINA EL PRE-PROCESADO DE DATOS**"
   ]
  },
  {
   "cell_type": "markdown",
   "id": "53c9af5b-670c-4a9e-96f4-72cc7fd5aac8",
   "metadata": {},
   "source": [
    "**Aplicación de un modelo de Machine Learning**"
   ]
  },
  {
   "cell_type": "code",
   "execution_count": 88,
   "id": "4b5605a1-1eb0-4821-b85a-434194a8f096",
   "metadata": {},
   "outputs": [],
   "source": [
    "# Vamos a trabajar solo con el dataset de training. Este lo dividiremos en un dataset de training (valga la redundancia) y otro de test, para entrenar un modelo\n",
    "# Finalmente, aplicaremos este modelo entrenado al dataset de 'test' original del concurso"
   ]
  },
  {
   "cell_type": "code",
   "execution_count": 89,
   "id": "e4efaf12-b346-43e6-b9ff-a9fed9e302e1",
   "metadata": {},
   "outputs": [],
   "source": [
    "#Convertimos a numérica la variable objetivo\n",
    "\n",
    "# Crear un diccionario de mapeo para asignar números a cada categoría\n",
    "mapeo_categorias = {'non functional': 0, 'functional needs repair': 1, 'functional': 2 }\n",
    "\n",
    "# Aplicar el mapeo a la columna 'status_group'\n",
    "data2['status_group_numeric'] = data2['status_group'].map(mapeo_categorias)\n",
    "\n",
    "# Eliminar la columna categórica\n",
    "data2 = data2.drop('status_group', axis=1)\n"
   ]
  },
  {
   "cell_type": "code",
   "execution_count": 90,
   "id": "2bd45b93-7c5b-4365-9cb8-36d8296dde5c",
   "metadata": {},
   "outputs": [],
   "source": [
    "# Antes de dividir el dataset, vamos a definir el 'id' como índice\n",
    "data2.set_index('id', inplace=True)"
   ]
  },
  {
   "cell_type": "code",
   "execution_count": 91,
   "id": "a16e0f37-42b2-453e-932a-7fe7249a1c20",
   "metadata": {},
   "outputs": [],
   "source": [
    "# Se aplicará un modelo Random Forest. Primero, dividimos en train y test\n",
    "\n",
    "# Dividir los datos en conjuntos de entrenamiento y prueba\n",
    "X_train, X_test, y_train, y_test = train_test_split (data2.drop('status_group_numeric', axis=1), \n",
    "                                                     data2.status_group_numeric,\n",
    "                                                     test_size = 0.2,\n",
    "                                                     random_state = 0,\n",
    "                                                     stratify = data2.status_group_numeric)\n"
   ]
  },
  {
   "cell_type": "markdown",
   "id": "8504c02d-7ba0-4241-b8a9-276bd610adbd",
   "metadata": {},
   "source": [
    "**1. XGBoost**"
   ]
  },
  {
   "cell_type": "markdown",
   "id": "24418a1a-59bd-4579-a1a7-d23bf137a274",
   "metadata": {},
   "source": [
    "**Primero se entrenó un modelo XGBoost. Las predicciones si bien no eran malas sobre el dataset de test original del concurso, a través de un Random Forest se obtuvieron mejores resultados. El puntaje obtenido con este modelo (XGBoost) fue de 0.7391. El código utilizado es el siguiente:**"
   ]
  },
  {
   "cell_type": "raw",
   "id": "0e8685e3-9909-4b24-a570-e7736c94501e",
   "metadata": {},
   "source": [
    "import xgboost as xgb\n",
    "from sklearn.model_selection import train_test_split\n",
    "from sklearn.metrics import accuracy_score\n",
    "\n",
    "# Supongamos que tienes un DataFrame llamado 'data' que contiene todas las características y la variable objetivo\n",
    "# y que 'X' es el nombre de las columnas que representan las características y 'y' es la variable objetivo\n",
    "\n",
    "# Convertir los datos de entrenamiento y prueba a objetos DMatrix\n",
    "dtrain = xgb.DMatrix(X_train, label=y_train)\n",
    "dtest = xgb.DMatrix(X_test, label=y_test)\n",
    "\n",
    "# Definir los parámetros del modelo\n",
    "parametros = {'max_depth': 3, 'eta': 0.1, 'objective': 'multi:softmax', 'num_class': 3}\n",
    "\n",
    "# Entrenar el modelo\n",
    "num_rondas = 100\n",
    "modelo = xgb.train(parametros, dtrain, num_rondas)\n",
    "\n",
    "# Realizar predicciones en el conjunto de prueba\n",
    "predicciones = modelo.predict(dtest)\n",
    "\n",
    "# Calcular la precisión del modelo\n",
    "precision = accuracy_score(y_test, predicciones)\n",
    "print(\"Precisión del modelo:\", precision)\n",
    "\n"
   ]
  },
  {
   "cell_type": "raw",
   "id": "2021d435-5dfd-4b32-84eb-0798dd2b657d",
   "metadata": {},
   "source": [
    "# Predecir sobre los datos de prueba\n",
    "predicciones = modelo.predict(xgb.DMatrix(data_test))\n",
    "\n",
    "#Reseteamos index para convertir en dataframe\n",
    "data_test.reset_index('id', inplace=True)\n",
    "\n",
    "# Almacenar como DF\n",
    "result_df = pd.DataFrame({'id': data_test['id'], 'status_group': predicciones})\n",
    "\n",
    "# Guardar el DataFrame como un archivo Excel\n",
    "result_df.to_excel('prediccion_XG_FelipeMancilla_ML.xlsx', index=False)\n",
    "\n"
   ]
  },
  {
   "cell_type": "raw",
   "id": "898db3f2-5566-4c15-9696-75d6ace9bf26",
   "metadata": {},
   "source": [
    "# Cargar el archivo Excel con las predicciones\n",
    "predicciones_df = pd.read_excel('prediccion_XG_FelipeMancilla_ML.xlsx')\n",
    "\n",
    "# Reemplazar los valores en la columna \"status_group\"\n",
    "predicciones_df[\"status_group\"] = predicciones_df[\"status_group\"].replace({0: \"non functional\",\n",
    "                                                                         1: \"functional needs repair\",\n",
    "                                                                         2: \"functional\"})\n",
    "\n",
    "# Guardar el archivo modificado como CSV\n",
    "predicciones_df.to_csv(\"predicciones_modificadas.csv\", index=False, sep=\",\")"
   ]
  },
  {
   "cell_type": "markdown",
   "id": "99d9093c-a4f6-4177-9ddb-3768b22c83f3",
   "metadata": {},
   "source": [
    "**2. Random Forest (modelo con mejores resultados)**"
   ]
  },
  {
   "cell_type": "raw",
   "id": "666de17b-d458-4503-b433-59c46b6b5e88",
   "metadata": {},
   "source": [
    "# Se aplicará un modelo Random Forest. Para aquello, a través de la siguiente fórmula, definiremos los mejores parámetros\n",
    "\n",
    "from sklearn.ensemble import RandomForestClassifier\n",
    "from sklearn.model_selection import GridSearchCV\n",
    "\n",
    "# Definir los hiperparámetros que deseas probar\n",
    "param_grid = {\n",
    "    'n_estimators': [50, 100, 150], # Número de árboles en el bosque\n",
    "    'max_depth': [None, 10, 20], # Profundidad máxima de los árboles\n",
    "    'min_samples_split': [2, 5, 10] # Número mínimo de muestras requeridas para dividir un nodo interno\n",
    "}\n",
    "\n",
    "# Crear el modelo de Random Forest\n",
    "rf_model = RandomForestClassifier(random_state=42)\n",
    "\n",
    "# Realizar la búsqueda de hiperparámetros utilizando GridSearchCV\n",
    "grid_search = GridSearchCV(estimator=rf_model, param_grid=param_grid, cv=5, scoring='accuracy')\n",
    "grid_search.fit(X_train, y_train)\n",
    "\n",
    "# Obtener los mejores hiperparámetros y el mejor modelo\n",
    "best_params = grid_search.best_params_\n",
    "best_model = grid_search.best_estimator_\n",
    "\n",
    "# Imprimir los mejores hiperparámetros\n",
    "print(\"Mejores hiperparámetros:\", best_params)\n",
    "\n",
    "# Evaluar el mejor modelo en el conjunto de prueba\n",
    "accuracy = best_model.score(X_test, y_test)\n",
    "print(\"Exactitud del mejor modelo:\", accuracy)"
   ]
  },
  {
   "cell_type": "markdown",
   "id": "8c817be0-96cf-431b-84d9-54c24fa12e22",
   "metadata": {},
   "source": [
    "**La celda anterior se dejó como Raw, debido a que tarda mucho en ejecutar. No obstante, los resultados arrojaron lo siguiente:**"
   ]
  },
  {
   "cell_type": "raw",
   "id": "4a22584a-1795-427e-bafc-1d8af893ff43",
   "metadata": {},
   "source": [
    "Mejores hiperparámetros: {'max_depth': None, 'min_samples_split': 5, 'n_estimators': 100}\n",
    "Exactitud del mejor modelo: 0.81304713804713"
   ]
  },
  {
   "cell_type": "code",
   "execution_count": 92,
   "id": "d91755e4-3027-40ea-b62c-6c18616ee473",
   "metadata": {},
   "outputs": [],
   "source": [
    "import pandas as pd\n",
    "from sklearn.ensemble import RandomForestClassifier\n",
    "from sklearn.metrics import accuracy_score\n",
    "from sklearn.model_selection import train_test_split\n",
    "\n",
    "# Definir los hiperparámetros personalizados en base a los resultados del código anterior\n",
    "n_estimators = 100\n",
    "max_depth = None\n",
    "min_samples_split = 5\n",
    "\n",
    "\n",
    "# Crear el clasificador de Random Forest con los hiperparámetros personalizados\n",
    "rf_classifier = RandomForestClassifier(n_estimators=n_estimators,\n",
    "                                       max_depth=max_depth,\n",
    "                                       min_samples_split=min_samples_split,\n",
    "                                       random_state=42)\n",
    "\n",
    "\n",
    "\n",
    "# Entrenar el modelo\n",
    "rf_classifier.fit(X_train, y_train)\n",
    "\n",
    "# Predecir sobre los datos de prueba\n",
    "y_pred = rf_classifier.predict(X_test)"
   ]
  },
  {
   "cell_type": "code",
   "execution_count": 93,
   "id": "33c0c051-445a-4908-95ca-71883d7d235e",
   "metadata": {},
   "outputs": [
    {
     "name": "stdout",
     "output_type": "stream",
     "text": [
      "Accuracy: 0.813047138047138\n",
      "Precision: 0.8084555796532856\n",
      "Recall: 0.813047138047138\n",
      "F1-score: 0.8044701999331735\n",
      "Confusion Matrix:\n",
      " [[3510   60  995]\n",
      " [ 127  270  466]\n",
      " [ 459  114 5879]]\n"
     ]
    }
   ],
   "source": [
    "\n",
    "# Métricas de evaluación\n",
    "from sklearn.metrics import accuracy_score, precision_score, recall_score, f1_score, confusion_matrix\n",
    "\n",
    "# Calcular accuracy\n",
    "accuracy = accuracy_score(y_test, y_pred)\n",
    "\n",
    "# Calcular precision\n",
    "precision = precision_score(y_test, y_pred, average='weighted')\n",
    "\n",
    "# Calcular recall\n",
    "recall = recall_score(y_test, y_pred, average='weighted')\n",
    "\n",
    "# Calcular F1-score\n",
    "f1 = f1_score(y_test, y_pred, average='weighted')\n",
    "\n",
    "# Calcular matriz de confusión\n",
    "conf_matrix = confusion_matrix(y_test, y_pred)\n",
    "\n",
    "print(\"Accuracy:\", accuracy)\n",
    "print(\"Precision:\", precision)\n",
    "print(\"Recall:\", recall)\n",
    "print(\"F1-score:\", f1)\n",
    "print(\"Confusion Matrix:\\n\", conf_matrix)"
   ]
  },
  {
   "cell_type": "code",
   "execution_count": 94,
   "id": "3ca5b420-0cd5-42ee-a5d8-b6f3cac3e859",
   "metadata": {},
   "outputs": [],
   "source": [
    "#Seteamos el índex también para el dataset de test\n",
    "data_test.set_index('id', inplace=True)"
   ]
  },
  {
   "cell_type": "code",
   "execution_count": 95,
   "id": "e3578a0a-af4a-4ce2-905b-383313f99141",
   "metadata": {},
   "outputs": [],
   "source": [
    "# Predecir sobre los datos de prueba\n",
    "predicciones_data_test = rf_classifier.predict(data_test)\n"
   ]
  },
  {
   "cell_type": "code",
   "execution_count": 96,
   "id": "11566ead-c0d8-4506-9ae6-610fbe8d6c26",
   "metadata": {},
   "outputs": [],
   "source": [
    "#Reseteamos index para convertir en dataframe\n",
    "data_test.reset_index('id', inplace=True)"
   ]
  },
  {
   "cell_type": "code",
   "execution_count": 97,
   "id": "9d96dcdc-6623-47d0-ae0e-21d9828aa1b7",
   "metadata": {},
   "outputs": [],
   "source": [
    "\n",
    "# Almacenar como DF\n",
    "result_df = pd.DataFrame({'id': data_test['id'], 'status_group': predicciones_data_test})\n",
    "\n",
    "# Guardar el DataFrame como un archivo Excel\n",
    "result_df.to_excel('prediccion_RF_FelipeMancilla_ML.xlsx', index=False)"
   ]
  },
  {
   "cell_type": "code",
   "execution_count": 98,
   "id": "435f7caa-e967-4757-92e2-b8b010206548",
   "metadata": {},
   "outputs": [],
   "source": [
    "# Cargar el archivo Excel con las predicciones\n",
    "predicciones_df = pd.read_excel('prediccion_RF_FelipeMancilla_ML.xlsx')\n",
    "\n",
    "# Reemplazar los valores en la columna \"status_group\"\n",
    "predicciones_df[\"status_group\"] = predicciones_df[\"status_group\"].replace({0: \"non functional\",\n",
    "                                                                         1: \"functional needs repair\",\n",
    "                                                                         2: \"functional\"})\n",
    "\n",
    "# Guardar el archivo modificado como CSV\n",
    "predicciones_df.to_csv(\"predicciones_modificadas.csv\", index=False, sep=\",\")"
   ]
  },
  {
   "cell_type": "markdown",
   "id": "991894b4-e741-4beb-ac8c-f3e35c3bae15",
   "metadata": {},
   "source": [
    "**Evaluación del modelo por si existiese sobreentrenamiento**"
   ]
  },
  {
   "cell_type": "code",
   "execution_count": 99,
   "id": "33bae27e-87e4-4723-89c2-7f26aa534ec2",
   "metadata": {},
   "outputs": [],
   "source": [
    "#Aplicaremos validación cruzada sobre el modelo, para verificar que no haya existido sobreentrenamiento"
   ]
  },
  {
   "cell_type": "code",
   "execution_count": 100,
   "id": "e7781497-5bde-4425-a051-281765ad1e3f",
   "metadata": {},
   "outputs": [],
   "source": [
    "\n",
    "# Extraer la variable objetivo 'y'\n",
    "y = data2['status_group_numeric']\n",
    "\n",
    "# Eliminar la variable objetivo 'y' del DataFrame 'data' para dejar solo las características\n",
    "X = data2.drop('status_group_numeric', axis=1)"
   ]
  },
  {
   "cell_type": "code",
   "execution_count": 101,
   "id": "82f43930-6bfa-4e0f-9d1f-c5868dcd2805",
   "metadata": {},
   "outputs": [
    {
     "name": "stdout",
     "output_type": "stream",
     "text": [
      "Puntuaciones de validación cruzada: [0.81885522 0.81245791 0.81262626 0.81060606 0.81372054]\n",
      "Media de las puntuaciones: 0.8136531986531986\n",
      "Desviación estándar de las puntuaciones: 0.0027868945382727747\n"
     ]
    }
   ],
   "source": [
    "# Aplicar validación cruzada\n",
    "puntuaciones_validacion_cruzada = cross_val_score(rf_classifier, X, y, cv=5) \n",
    "\n",
    "# Calcular la media y la desviación estándar de las puntuaciones de validación cruzada\n",
    "media_puntuaciones = np.mean(puntuaciones_validacion_cruzada)\n",
    "desviacion_estandar_puntuaciones = np.std(puntuaciones_validacion_cruzada)\n",
    "\n",
    "# Imprimir resultados\n",
    "print(\"Puntuaciones de validación cruzada:\", puntuaciones_validacion_cruzada)\n",
    "print(\"Media de las puntuaciones:\", media_puntuaciones)\n",
    "print(\"Desviación estándar de las puntuaciones:\", desviacion_estandar_puntuaciones)"
   ]
  },
  {
   "cell_type": "code",
   "execution_count": 102,
   "id": "64cd9e18-ef46-4d7a-89f5-3096d3fc89ed",
   "metadata": {},
   "outputs": [],
   "source": [
    "#Los resultados de la validación cruzada indican que la media de las puntuaciones es alta, por lo que se puede decir que el modelo tiene un buen rendimiento en general\n",
    "# Asimismo, la desviación estándar es baja, lo cual también es un buen indicador de la consistencia"
   ]
  }
 ],
 "metadata": {
  "kernelspec": {
   "display_name": "Python 3 (ipykernel)",
   "language": "python",
   "name": "python3"
  },
  "language_info": {
   "codemirror_mode": {
    "name": "ipython",
    "version": 3
   },
   "file_extension": ".py",
   "mimetype": "text/x-python",
   "name": "python",
   "nbconvert_exporter": "python",
   "pygments_lexer": "ipython3",
   "version": "3.11.8"
  }
 },
 "nbformat": 4,
 "nbformat_minor": 5
}
